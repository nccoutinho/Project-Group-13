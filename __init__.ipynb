{
 "cells": [
  {
   "cell_type": "code",
   "execution_count": 1,
   "id": "ea4c297a",
   "metadata": {},
   "outputs": [],
   "source": [
    "#input_handler.py\n",
    "from IPython.display import clear_output"
   ]
  },
  {
   "cell_type": "code",
   "execution_count": 3,
   "id": "c86f2bb3",
   "metadata": {},
   "outputs": [],
   "source": [
    "import input_handler\n",
    "#import management"
   ]
  },
  {
   "cell_type": "code",
   "execution_count": null,
   "id": "bc49ace5",
   "metadata": {},
   "outputs": [],
   "source": [
    "op = management.Operations()\n",
    "\n",
    "while True:\n",
    "        clear_output(wait=True)\n",
    "        print(\"\\n===== To-Do List =====\")\n",
    "        print(\"1. View\")\n",
    "        print(\"2. Add Projects\")\n",
    "        print(\"3. Add Tasks\")\n",
    "        print(\"4. Modify\")\n",
    "        print(\"5. Delete\")\n",
    "        print(\"6. Exit\")\n",
    "\n",
    "        choice = input_handler.get_user_choice()\n",
    "\n",
    "        \n",
    "        match choice:\n",
    "            case 1:\n",
    "                break\n",
    "            \n",
    "            case 2:\n",
    "                name = input_handler.get_project_input()\n",
    "                priority = input_handler.get_priority_input()\n",
    "                duration = input_handler.get_duration_input()\n",
    "                comments = input_handler.get_comments_input()\n",
    "                assignedTo = input_handler.get_assigned_input()\n",
    "                startDate = input_handler.get_start_date_input()\n",
    "                Deadline = input_handler.get_deadline_input()\n",
    "                owner = input_handler.get_owner_input()\n",
    "                \n",
    "                \n",
    "            \n",
    "            case 3:\n",
    "                break\n",
    "            \n",
    "            case 4:\n",
    "                break\n",
    "            \n",
    "            case 6:\n",
    "                print(\"Exiting the To-Do List application without saving. Goodbye!\")\n",
    "                break\n",
    "            \n",
    "            case default:\n",
    "                print(\"Invalid choice. Please enter a valid option.\")"
   ]
  }
 ],
 "metadata": {
  "kernelspec": {
   "display_name": "Python 3 (ipykernel)",
   "language": "python",
   "name": "python3"
  },
  "language_info": {
   "codemirror_mode": {
    "name": "ipython",
    "version": 3
   },
   "file_extension": ".py",
   "mimetype": "text/x-python",
   "name": "python",
   "nbconvert_exporter": "python",
   "pygments_lexer": "ipython3",
   "version": "3.11.2"
  }
 },
 "nbformat": 4,
 "nbformat_minor": 5
}
