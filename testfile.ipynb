{
 "cells": [
  {
   "cell_type": "code",
   "execution_count": 1,
   "id": "97241269",
   "metadata": {},
   "outputs": [],
   "source": [
    "from projecttracker import starttracker"
   ]
  },
  {
   "cell_type": "code",
   "execution_count": null,
   "id": "4c3d723b",
   "metadata": {},
   "outputs": [
    {
     "name": "stdout",
     "output_type": "stream",
     "text": [
      "\n",
      "===== Project Tracker =====\n",
      "1. View\n",
      "2. Add Projects\n",
      "3. Add Tasks\n",
      "4. Modify\n",
      "5. Delete\n",
      "6. Open Visualization window\n",
      "7. Download to csv\n",
      "8. Exit\n"
     ]
    }
   ],
   "source": [
    "starttracker.startup()"
   ]
  },
  {
   "cell_type": "code",
   "execution_count": null,
   "id": "1407e3a9",
   "metadata": {},
   "outputs": [],
   "source": []
  }
 ],
 "metadata": {
  "kernelspec": {
   "display_name": "Python 3 (ipykernel)",
   "language": "python",
   "name": "python3"
  },
  "language_info": {
   "codemirror_mode": {
    "name": "ipython",
    "version": 3
   },
   "file_extension": ".py",
   "mimetype": "text/x-python",
   "name": "python",
   "nbconvert_exporter": "python",
   "pygments_lexer": "ipython3",
   "version": "3.11.2"
  }
 },
 "nbformat": 4,
 "nbformat_minor": 5
}
