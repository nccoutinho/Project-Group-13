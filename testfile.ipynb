{
 "cells": [
  {
   "cell_type": "code",
   "execution_count": 1,
   "id": "d4a35bb0",
   "metadata": {},
   "outputs": [],
   "source": [
    "from projecttracker import starttracker"
   ]
  },
  {
   "cell_type": "code",
   "execution_count": 2,
   "id": "2d3c18ee",
   "metadata": {},
   "outputs": [
    {
     "name": "stdout",
     "output_type": "stream",
     "text": [
      "Exiting the Project Tracker application. Goodbye!\n"
     ]
    }
   ],
   "source": [
    "starttracker.startup()"
   ]
  },
  {
   "cell_type": "code",
   "execution_count": null,
   "id": "f7297c0d",
   "metadata": {},
   "outputs": [],
   "source": []
  }
 ],
 "metadata": {
  "kernelspec": {
   "display_name": "Python 3 (ipykernel)",
   "language": "python",
   "name": "python3"
  },
  "language_info": {
   "codemirror_mode": {
    "name": "ipython",
    "version": 3
   },
   "file_extension": ".py",
   "mimetype": "text/x-python",
   "name": "python",
   "nbconvert_exporter": "python",
   "pygments_lexer": "ipython3",
   "version": "3.11.2"
  }
 },
 "nbformat": 4,
 "nbformat_minor": 5
}
