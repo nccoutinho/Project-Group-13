{
 "cells": [
  {
   "cell_type": "code",
   "execution_count": null,
   "id": "5112cc4a",
   "metadata": {},
   "outputs": [],
   "source": [
    "import os\n",
    "os.chdir('/Users/prana/Documents/MDS/Project-Group-13')"
   ]
  },
  {
   "cell_type": "code",
   "execution_count": null,
   "id": "969043fb",
   "metadata": {},
   "outputs": [],
   "source": [
    "#input_handler.py\n",
    "from IPython.display import clear_output"
   ]
  },
  {
   "cell_type": "code",
   "execution_count": null,
   "id": "619c2d07",
   "metadata": {},
   "outputs": [],
   "source": [
    "from projecttracker.utils import input_handler\n",
    "from projecttracker.management import operations"
   ]
  },
  {
   "cell_type": "code",
   "execution_count": null,
   "id": "b16b063f",
   "metadata": {
    "scrolled": false
   },
   "outputs": [],
   "source": [
    "op = operations.Operations()\n",
    "\n",
    "while True:\n",
    "        clear_output(wait=True)\n",
    "        print(\"\\n===== Project Tracker =====\")\n",
    "        print(\"1. View\")\n",
    "        print(\"2. Add Projects\")\n",
    "        print(\"3. Add Tasks\")\n",
    "        print(\"4. Modify\")\n",
    "        print(\"5. Delete\")\n",
    "        print(\"6. Visualize\")\n",
    "        print(\"7. Download to csv\")\n",
    "        print(\"8. Exit\")\n",
    "\n",
    "        choice = input_handler.get_user_choice()\n",
    "\n",
    "        \n",
    "        match choice:\n",
    "            case 1:\n",
    "                df = op.view()\n",
    "                print(df)\n",
    "                if input_handler.any_key_continue():\n",
    "                    pass\n",
    "                else:\n",
    "                    pass\n",
    "            \n",
    "            case 2:\n",
    "                name = input_handler.get_project_input()\n",
    "                priority = input_handler.get_priority_input()\n",
    "                duration = input_handler.get_duration_input()\n",
    "                comments = input_handler.get_comments_input()\n",
    "                assignedTo = input_handler.get_assigned_input()\n",
    "                startDate = input_handler.get_start_date_input()\n",
    "                Deadline = input_handler.get_deadline_input()\n",
    "                owner = input_handler.get_owner_input()\n",
    "                \n",
    "                proj1 = op.add_proj(Name=name, Priority=priority, Duration=duration, Comments=comments,\n",
    "                        assignedTo=assignedTo, startDate=startDate, Deadline=Deadline, Owner=owner)\n",
    "            \n",
    "            case 3:\n",
    "                \n",
    "                name = input_handler.get_task_input()\n",
    "                projectID = input_handler.get_projectID_input()\n",
    "                priority = input_handler.get_priority_input()\n",
    "                duration = input_handler.get_duration_input()\n",
    "                comments = input_handler.get_comments_input()\n",
    "                assignedTo = input_handler.get_assigned_input()\n",
    "                startDate = input_handler.get_start_date_input()\n",
    "                Deadline = input_handler.get_deadline_input()\n",
    "            \n",
    "                op.add_task(projectID = projectID, Name=name, Priority=priority, Duration=duration, Comments=comments,\n",
    "                        assignedTo=assignedTo, startDate=startDate, Deadline=Deadline)\n",
    "            \n",
    "            case 4:\n",
    "                op.modify_item()\n",
    "            \n",
    "            case 5:\n",
    "                op.delete_item()\n",
    "            \n",
    "            case 6:\n",
    "                break\n",
    "            \n",
    "            case 7:\n",
    "                break\n",
    "            \n",
    "            case 8:\n",
    "                print(\"Exiting the To-Do List application without saving. Goodbye!\")\n",
    "                break\n",
    "            \n",
    "            case default:\n",
    "                print(\"Invalid choice. Please enter a valid option.\")"
   ]
  },
  {
   "cell_type": "code",
   "execution_count": null,
   "id": "5e8fd023",
   "metadata": {},
   "outputs": [],
   "source": []
  }
 ],
 "metadata": {
  "kernelspec": {
   "display_name": "Python 3 (ipykernel)",
   "language": "python",
   "name": "python3"
  },
  "language_info": {
   "codemirror_mode": {
    "name": "ipython",
    "version": 3
   },
   "file_extension": ".py",
   "mimetype": "text/x-python",
   "name": "python",
   "nbconvert_exporter": "python",
   "pygments_lexer": "ipython3",
   "version": "3.11.2"
  }
 },
 "nbformat": 4,
 "nbformat_minor": 5
}
