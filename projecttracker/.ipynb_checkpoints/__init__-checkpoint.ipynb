{
 "cells": [
  {
   "cell_type": "code",
   "execution_count": 1,
   "id": "36306f73",
   "metadata": {},
   "outputs": [],
   "source": [
    "import os\n",
    "os.chdir('/Users/prana/Documents/MDS/Project-Group-13')"
   ]
  },
  {
   "cell_type": "code",
   "execution_count": 2,
   "id": "969043fb",
   "metadata": {},
   "outputs": [],
   "source": [
    "#input_handler.py\n",
    "from IPython.display import clear_output\n",
    "import time"
   ]
  },
  {
   "cell_type": "code",
   "execution_count": 3,
   "id": "619c2d07",
   "metadata": {},
   "outputs": [],
   "source": [
    "from projecttracker.utils import input_handler\n",
    "from projecttracker.management import operations\n",
    "from projecttracker.utils import file_handler"
   ]
  },
  {
   "cell_type": "code",
   "execution_count": 4,
   "id": "342bb494",
   "metadata": {},
   "outputs": [
    {
     "name": "stdout",
     "output_type": "stream",
     "text": [
      "\n",
      "===== Project Tracker =====\n",
      "1. View\n",
      "2. Add Projects\n",
      "3. Add Tasks\n",
      "4. Modify\n",
      "5. Delete\n",
      "6. Visualize\n",
      "7. Download to csv\n",
      "8. Exit\n",
      "Enter choice:1\n",
      "No data available for projects.\n"
     ]
    },
    {
     "ename": "AttributeError",
     "evalue": "'NoneType' object has no attribute 'head'",
     "output_type": "error",
     "traceback": [
      "\u001b[1;31m---------------------------------------------------------------------------\u001b[0m",
      "\u001b[1;31mAttributeError\u001b[0m                            Traceback (most recent call last)",
      "Cell \u001b[1;32mIn[4], line 93\u001b[0m\n\u001b[0;32m     88\u001b[0m     op\u001b[38;5;241m.\u001b[39madd_task(projectID\u001b[38;5;241m=\u001b[39mproject_id, Name\u001b[38;5;241m=\u001b[39mname, Priority\u001b[38;5;241m=\u001b[39mpriority, Duration\u001b[38;5;241m=\u001b[39mduration, Comments\u001b[38;5;241m=\u001b[39mcomments,\n\u001b[0;32m     89\u001b[0m                 assignedTo\u001b[38;5;241m=\u001b[39massigned_to, startDate\u001b[38;5;241m=\u001b[39mstart_date, Deadline\u001b[38;5;241m=\u001b[39mdeadline)\n\u001b[0;32m     92\u001b[0m \u001b[38;5;28;01mif\u001b[39;00m \u001b[38;5;18m__name__\u001b[39m \u001b[38;5;241m==\u001b[39m \u001b[38;5;124m\"\u001b[39m\u001b[38;5;124m__main__\u001b[39m\u001b[38;5;124m\"\u001b[39m:\n\u001b[1;32m---> 93\u001b[0m     \u001b[43mmain\u001b[49m\u001b[43m(\u001b[49m\u001b[43m)\u001b[49m\n",
      "Cell \u001b[1;32mIn[4], line 22\u001b[0m, in \u001b[0;36mmain\u001b[1;34m()\u001b[0m\n\u001b[0;32m     20\u001b[0m \u001b[38;5;28;01mmatch\u001b[39;00m choice:\n\u001b[0;32m     21\u001b[0m     \u001b[38;5;28;01mcase\u001b[39;00m \u001b[38;5;124m\"\u001b[39m\u001b[38;5;124m1\u001b[39m\u001b[38;5;124m\"\u001b[39m:\n\u001b[1;32m---> 22\u001b[0m         \u001b[43mview_projects\u001b[49m\u001b[43m(\u001b[49m\u001b[43mop\u001b[49m\u001b[43m)\u001b[49m\n\u001b[0;32m     24\u001b[0m     \u001b[38;5;28;01mcase\u001b[39;00m \u001b[38;5;124m\"\u001b[39m\u001b[38;5;124m2\u001b[39m\u001b[38;5;124m\"\u001b[39m:\n\u001b[0;32m     25\u001b[0m         add_project(op)\n",
      "Cell \u001b[1;32mIn[4], line 58\u001b[0m, in \u001b[0;36mview_projects\u001b[1;34m(op)\u001b[0m\n\u001b[0;32m     56\u001b[0m \u001b[38;5;28;01mdef\u001b[39;00m \u001b[38;5;21mview_projects\u001b[39m(op):\n\u001b[0;32m     57\u001b[0m     df \u001b[38;5;241m=\u001b[39m op\u001b[38;5;241m.\u001b[39mview()\n\u001b[1;32m---> 58\u001b[0m     \u001b[38;5;28mprint\u001b[39m(\u001b[43mdf\u001b[49m\u001b[38;5;241;43m.\u001b[39;49m\u001b[43mhead\u001b[49m(\u001b[38;5;241m10\u001b[39m))\n\u001b[0;32m     59\u001b[0m     \u001b[38;5;28minput\u001b[39m(\u001b[38;5;124m\"\u001b[39m\u001b[38;5;124mPress any key to continue.\u001b[39m\u001b[38;5;124m\"\u001b[39m)\n",
      "\u001b[1;31mAttributeError\u001b[0m: 'NoneType' object has no attribute 'head'"
     ]
    }
   ],
   "source": [
    "def display_menu():\n",
    "    \n",
    "    print(\"\\n===== Project Tracker =====\", flush=True)\n",
    "    print(\"1. View\")\n",
    "    print(\"2. Add Projects\")\n",
    "    print(\"3. Add Tasks\")\n",
    "    print(\"4. Modify\")\n",
    "    print(\"5. Delete\")\n",
    "    print(\"6. Visualize\")\n",
    "    print(\"7. Download to csv\")\n",
    "    print(\"8. Exit\", flush=True)\n",
    "\n",
    "def main():\n",
    "    op = operations.Operations()\n",
    "\n",
    "    while True:\n",
    "        display_menu()\n",
    "        choice = input(\"Enter choice:\")\n",
    "\n",
    "        match choice:\n",
    "            case \"1\":\n",
    "                view_projects(op)\n",
    "\n",
    "            case \"2\":\n",
    "                add_project(op)\n",
    "\n",
    "            case \"3\":\n",
    "                add_task(op)\n",
    "\n",
    "            case \"4\":\n",
    "                op.modify_item()\n",
    "\n",
    "            case \"5\":\n",
    "                op.delete_item()\n",
    "\n",
    "            case \"6\":\n",
    "                break\n",
    "\n",
    "            case \"7\":\n",
    "                df = op.view()\n",
    "                file_path = input('Enter the file path you want to download the file to: ')\n",
    "                file_handler.download_csv(df, file_path)\n",
    "                print(f'The file has been downloaded in {file_path}')\n",
    "\n",
    "            case \"8\":\n",
    "                clear_output(wait=True)\n",
    "                print(\"Exiting the Project Tracker application. Goodbye!\")\n",
    "                return\n",
    "\n",
    "            case _:\n",
    "                print(\"Invalid choice. Please enter a valid option.\")\n",
    "            \n",
    "        time.sleep(2)\n",
    "        clear_output(wait=True)\n",
    "\n",
    "def view_projects(op):\n",
    "    df = op.view()\n",
    "    if df:\n",
    "        print(df.head(10))\n",
    "    input(\"Press any key to continue.\")\n",
    "\n",
    "def add_project(op):\n",
    "    # Get project details\n",
    "    name = input_handler.get_project_input()\n",
    "    priority = input_handler.get_priority_input()\n",
    "    duration = input_handler.get_duration_input()\n",
    "    comments = input_handler.get_comments_input()\n",
    "    assigned_to = input_handler.get_assigned_input()\n",
    "    start_date = input_handler.get_start_date_input()\n",
    "    deadline = input_handler.get_deadline_input()\n",
    "    owner = input_handler.get_owner_input()\n",
    "\n",
    "    # Add project\n",
    "    op.add_proj(Name=name, Priority=priority, Duration=duration, Comments=comments,\n",
    "                assignedTo=assigned_to, startDate=start_date, Deadline=deadline, Owner=owner)\n",
    "\n",
    "def add_task(op):\n",
    "    # Get task details\n",
    "    name = input_handler.get_task_input()\n",
    "    project_id = input_handler.get_projectID_input()\n",
    "    priority = input_handler.get_priority_input()\n",
    "    duration = input_handler.get_duration_input()\n",
    "    comments = input_handler.get_comments_input()\n",
    "    assigned_to = input_handler.get_assigned_input()\n",
    "    start_date = input_handler.get_start_date_input()\n",
    "    deadline = input_handler.get_deadline_input()\n",
    "\n",
    "    # Add task\n",
    "    op.add_task(projectID=project_id, Name=name, Priority=priority, Duration=duration, Comments=comments,\n",
    "                assignedTo=assigned_to, startDate=start_date, Deadline=deadline)\n",
    "\n",
    "\n",
    "if __name__ == \"__main__\":\n",
    "    main()\n"
   ]
  },
  {
   "cell_type": "code",
   "execution_count": null,
   "id": "9cef124f",
   "metadata": {},
   "outputs": [],
   "source": []
  }
 ],
 "metadata": {
  "kernelspec": {
   "display_name": "Python 3 (ipykernel)",
   "language": "python",
   "name": "python3"
  },
  "language_info": {
   "codemirror_mode": {
    "name": "ipython",
    "version": 3
   },
   "file_extension": ".py",
   "mimetype": "text/x-python",
   "name": "python",
   "nbconvert_exporter": "python",
   "pygments_lexer": "ipython3",
   "version": "3.11.2"
  }
 },
 "nbformat": 4,
 "nbformat_minor": 5
}
