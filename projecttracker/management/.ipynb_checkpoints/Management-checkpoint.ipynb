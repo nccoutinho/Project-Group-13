{
 "cells": [
  {
   "cell_type": "code",
   "execution_count": 2,
   "id": "080be618",
   "metadata": {
    "tags": []
   },
   "outputs": [],
   "source": [
    "from projecttracker.utils import file_handler"
   ]
  },
  {
   "cell_type": "code",
   "execution_count": 1,
   "id": "21c1d8bb",
   "metadata": {},
   "outputs": [],
   "source": [
    "import os\n",
    "os.chdir('/Users/prana/Documents/MDS/Project-Group-13')"
   ]
  },
  {
   "cell_type": "code",
   "execution_count": 3,
   "id": "11c31ff0",
   "metadata": {},
   "outputs": [],
   "source": [
    "\n",
    "\n",
    "class Operations:\n",
    "    def __init__(self):\n",
    "        self.projects = {}\n",
    "        self.tasks = {}\n",
    "        \n",
    "    #def view\n",
    "        \n",
    "    def add_proj(self, **kwargs):\n",
    "        new_proj = Project(**kwargs)\n",
    "        self.projects[new_proj.projectID] = new_proj\n",
    "        print(f\"Project '{new_proj.projectID}' added.\")\n",
    "        file_handler.write_to_json(new_proj, 'project.json')  # Write to JSON file\n",
    "        return new_proj\n",
    "\n",
    "    def add_task(self, **kwargs):\n",
    "        new_task = Task(**kwargs)\n",
    "        self.tasks[new_task.taskID] = new_task\n",
    "        print(f\"Task '{new_task.taskID}' added.\")\n",
    "        file_handler.write_to_json(new_task, 'task.json')  # Write to JSON file\n",
    "        return new_task\n",
    "    \n",
    "    def modify_item(self):\n",
    "        \n",
    "        modify_type = input(\"Enter 'project' or 'task' ID to modify: \").upper()\n",
    "        \n",
    "        while True:\n",
    "\n",
    "            if modify_type[0] == 'P' and modify_type in self.projects:\n",
    "                project = self.projects[modify_type]\n",
    "                print(f\"Current attributes of Project '{modify_type}':\")\n",
    "                for key, value in project.__dict__.items():\n",
    "                     print(f\"{key}: {value}\")\n",
    "\n",
    "                attribute = input(\"Enter the attribute to modify: \")\n",
    "                if hasattr(project, attribute):\n",
    "                    new_value = input(f\"Enter new value for '{attribute}': \")\n",
    "                    setattr(project, attribute, new_value)\n",
    "                    print(f\"Attribute '{attribute}' updated for Project '{modify_type}'.\")\n",
    "                else:\n",
    "                    print(f\"Attribute '{attribute}' does not exist in the project.\")\n",
    "            elif modify_type[0] == 'T' and modify_type in self.tasks:\n",
    "                task = self.tasks[modify_type]\n",
    "                print(f\"Current attributes of Task '{modify_type}':\")\n",
    "                for key, value in task.__dict__.items():\n",
    "                    print(f\"{key}: {value}\")\n",
    "\n",
    "                attribute = input(\"Enter the attribute to modify: \")\n",
    "                if hasattr(task, attribute):\n",
    "                    new_value = input(f\"Enter new value for '{attribute}': \")\n",
    "                    setattr(task, attribute, new_value)\n",
    "                    print(f\"Attribute '{attribute}' updated for Task '{modify_type}'.\")\n",
    "                else:\n",
    "                    print(f\"Attribute '{attribute}' does not exist in the task.\")\n",
    "            else:\n",
    "                print(\"Item not found or invalid item type.\")\n",
    "            \n",
    "            if input(f\"Do you want to continue updating {modify_type} (Y/N)?\") == 'N':\n",
    "                break\n",
    "    \n",
    "    def delete_item(self):\n",
    "        projects_from_json = file_handler.read_from_json('project.json')\n",
    "        project_ids = [project['projectID'] for project in projects_from_json]\n",
    "        tasks_from_json = file_handler.read_from_json('task.json')\n",
    "        task_ids = [task['taskID'] for task in tasks_from_json]\n",
    "        \n",
    "        delete_type = input(\"Enter 'project' or 'task' ID to delete: \").upper()\n",
    "        \n",
    "        if delete_type[0] == 'P':\n",
    "            if delete_type in project_ids:\n",
    "                project_list = [project for project in projects_from_json if project['projectID'] != delete_type]\n",
    "                file_handler.write_to_json(project_list, 'project.json')\n",
    "                return delete_type\n",
    "            else:\n",
    "                print(f\"Project '{delete_type}' not found.\")\n",
    "                return None\n",
    "        elif delete_type[0] == 'T':\n",
    "            if delete_type in task_ids:\n",
    "                task_list = [task for task in tasks_from_json if task['taskID'] != delete_type]\n",
    "                file_handler.write_to_json(task_list, 'task.json')\n",
    "                print(f\"Task '{delete_type}' deleted.\")\n",
    "                return delete_type\n",
    "            else:\n",
    "                print(f\"Task '{delete_type}' not found.\")\n",
    "                return None\n",
    "        else:\n",
    "            print(\"Invalid input. Please enter 'project' or 'task'.\")\n",
    "            return None\n",
    "    \n",
    "\n",
    "class Project(Operations):\n",
    "    #project_counter = 0\n",
    "    def __init__(self, Name, Priority, Duration, Comments, assignedTo, startDate, Deadline, Owner):\n",
    "        project_id = self.get_next_project_id()\n",
    "        self.projectID = f'P{project_id:04}'\n",
    "        self.projectName = Name\n",
    "        self.projectPriority = Priority\n",
    "        self.projectDuration = Duration\n",
    "        self.projectComments = Comments\n",
    "        self.assignedToProjectTL = assignedTo\n",
    "        self.projectStartDate = startDate \n",
    "        self.projectDeadline = Deadline\n",
    "        self.projectOwner = Owner\n",
    "        self.IsProjectCompleted = 'N'\n",
    "    \n",
    "    def get_next_project_id(self):\n",
    "        last_project_id = 0\n",
    "        try:\n",
    "            projects_from_json = file_handler.read_from_json('project.json')\n",
    "        except:\n",
    "            pass\n",
    "        else:\n",
    "            project_ids = [project['projectID'] for project in projects_from_json]\n",
    "            last_inserted_project_id = max(project_ids, key=lambda x: int(x[1:]))\n",
    "            last_project_id = int(last_inserted_project_id[1:])\n",
    "        finally:\n",
    "            last_project_id += 1\n",
    "            return last_project_id\n",
    "    \n",
    "\n",
    "\n",
    "class Task(Project):\n",
    "    #task_counter = 0\n",
    "    def __init__(self, projectID, Name, Priority, Duration, Comments, assignedTo, startDate, Deadline):\n",
    "        self.projectID = projectID\n",
    "        task_id = self.get_next_task_id()\n",
    "        self.taskID = f'T{task_id:04}'\n",
    "        self.taskName = Name\n",
    "        self.taskPriority = Priority\n",
    "        self.taskDuration = Duration\n",
    "        self.taskComments = Comments\n",
    "        self.assignedToTask = assignedTo\n",
    "        self.taskStartDate = startDate\n",
    "        self.taskDeadline = Deadline\n",
    "        self.IsTaskCompleted = 'N'\n",
    "    \n",
    "    def get_next_task_id(self):\n",
    "        last_task_id = 0\n",
    "        try:\n",
    "            tasks_from_json = file_handler.read_from_json('task.json')\n",
    "        except:\n",
    "            pass\n",
    "        else:\n",
    "            task_ids = [task['taskID'] for task in tasks_from_json]\n",
    "            last_inserted_task_id = max(task_ids, key=lambda x: int(x[1:]))\n",
    "            last_task_id = int(last_inserted_task_id[1:])\n",
    "        finally:\n",
    "            last_task_id += 1\n",
    "            return last_task_id\n",
    "    \n",
    "    \n",
    "\n"
   ]
  },
  {
   "cell_type": "code",
   "execution_count": 15,
   "id": "883e78a5",
   "metadata": {},
   "outputs": [
    {
     "name": "stdout",
     "output_type": "stream",
     "text": [
      "Project 'P0003' added.\n",
      "Task 'T0003' added.\n",
      "\n",
      "Projects read from JSON:\n",
      "{'projectID': 'P0001', 'projectName': 'Project 2', 'projectPriority': 'High', 'projectDuration': '2 weeks', 'projectComments': 'Important project', 'assignedToProjectTL': 'Team Lead 1', 'projectStartDate': '2023-11-01', 'projectDeadline': '2023-12-15', 'projectOwner': 'Project Owner 1', 'IsProjectCompleted': 'N'}\n",
      "{'projectID': 'P0002', 'projectName': 'Project 2', 'projectPriority': 'High', 'projectDuration': '2 weeks', 'projectComments': 'Important project', 'assignedToProjectTL': 'Team Lead 1', 'projectStartDate': '2023-11-01', 'projectDeadline': '2023-12-15', 'projectOwner': 'Project Owner 1', 'IsProjectCompleted': 'N'}\n",
      "{'projectID': 'P0003', 'projectName': 'Project 2', 'projectPriority': 'High', 'projectDuration': '2 weeks', 'projectComments': 'Important project', 'assignedToProjectTL': 'Team Lead 1', 'projectStartDate': '2023-11-01', 'projectDeadline': '2023-12-15', 'projectOwner': 'Project Owner 1', 'IsProjectCompleted': 'N'}\n",
      "\n",
      "Tasks read from JSON:\n",
      "{'projectID': 'P0001', 'taskID': 'T0001', 'taskName': 'Task 2', 'taskPriority': 'Medium', 'taskDuration': '1 week', 'taskComments': 'Urgent task', 'assignedToTask': 'Team Member 1', 'taskStartDate': '2023-11-02', 'taskDeadline': '2023-12-08', 'IsTaskCompleted': 'N'}\n",
      "{'projectID': 'P0001', 'taskID': 'T0002', 'taskName': 'Task 3', 'taskPriority': 'Medium', 'taskDuration': '1 week', 'taskComments': 'Urgent task', 'assignedToTask': 'Team Member 1', 'taskStartDate': '2023-11-02', 'taskDeadline': '2023-12-18', 'IsTaskCompleted': 'N'}\n",
      "{'projectID': 'P0001', 'taskID': 'T0003', 'taskName': 'Task 4', 'taskPriority': 'Medium', 'taskDuration': '1 week', 'taskComments': 'Urgent task', 'assignedToTask': 'Team Member 1', 'taskStartDate': '2023-11-02', 'taskDeadline': '2023-12-28', 'IsTaskCompleted': 'N'}\n"
     ]
    }
   ],
   "source": [
    "operations = Operations()\n",
    "\n",
    "project_data = {\n",
    "    'Name': 'Project 2',\n",
    "    'Priority': 'High',\n",
    "    'Duration': '2 weeks',\n",
    "    'Comments': 'Important project',\n",
    "    'assignedTo': 'Team Lead 1',\n",
    "    'startDate': '2023-11-01',\n",
    "    'Deadline': '2023-12-15',\n",
    "    'Owner': 'Project Owner 1',\n",
    "}\n",
    "operations.add_proj(**project_data)\n",
    "\n",
    "# Add a task\n",
    "task_data = {\n",
    "    'projectID': 'P0001',\n",
    "    'Name': 'Task 4',\n",
    "    'Priority': 'Medium',\n",
    "    'Duration': '1 week',\n",
    "    'Comments': 'Urgent task',\n",
    "    'assignedTo': 'Team Member 1',\n",
    "    'startDate': '2023-11-02',\n",
    "    'Deadline': '2023-12-28',\n",
    "}\n",
    "operations.add_task(**task_data)\n",
    "\n",
    "# Modify a project or task\n",
    "#operations.modify_item()\n",
    "\n",
    "# Delete a project or task\n",
    "#operations.delete_item()\n",
    "\n",
    "# Read projects and tasks from JSON files\n",
    "projects_from_json = file_handler.read_from_json('project.json')\n",
    "tasks_from_json = file_handler.read_from_json('task.json')\n",
    "#tasks_from_json = read_from_json()\n",
    "\n",
    "# Display the read projects and tasks\n",
    "print(\"\\nProjects read from JSON:\")\n",
    "for project_data in projects_from_json:\n",
    "    print(project_data)\n",
    "\n",
    "print(\"\\nTasks read from JSON:\")\n",
    "for task_data in tasks_from_json:\n",
    "    print(task_data)\n",
    "    \n"
   ]
  },
  {
   "cell_type": "code",
   "execution_count": 16,
   "id": "3c4a97b9",
   "metadata": {},
   "outputs": [
    {
     "data": {
      "text/plain": [
       "[{'projectID': 'P0001',\n",
       "  'taskID': 'T0001',\n",
       "  'taskName': 'Task 2',\n",
       "  'taskPriority': 'Medium',\n",
       "  'taskDuration': '1 week',\n",
       "  'taskComments': 'Urgent task',\n",
       "  'assignedToTask': 'Team Member 1',\n",
       "  'taskStartDate': '2023-11-02',\n",
       "  'taskDeadline': '2023-12-08',\n",
       "  'IsTaskCompleted': 'N'},\n",
       " {'projectID': 'P0001',\n",
       "  'taskID': 'T0002',\n",
       "  'taskName': 'Task 3',\n",
       "  'taskPriority': 'Medium',\n",
       "  'taskDuration': '1 week',\n",
       "  'taskComments': 'Urgent task',\n",
       "  'assignedToTask': 'Team Member 1',\n",
       "  'taskStartDate': '2023-11-02',\n",
       "  'taskDeadline': '2023-12-18',\n",
       "  'IsTaskCompleted': 'N'},\n",
       " {'projectID': 'P0001',\n",
       "  'taskID': 'T0003',\n",
       "  'taskName': 'Task 4',\n",
       "  'taskPriority': 'Medium',\n",
       "  'taskDuration': '1 week',\n",
       "  'taskComments': 'Urgent task',\n",
       "  'assignedToTask': 'Team Member 1',\n",
       "  'taskStartDate': '2023-11-02',\n",
       "  'taskDeadline': '2023-12-28',\n",
       "  'IsTaskCompleted': 'N'}]"
      ]
     },
     "execution_count": 16,
     "metadata": {},
     "output_type": "execute_result"
    }
   ],
   "source": [
    "tasks_from_json"
   ]
  },
  {
   "cell_type": "code",
   "execution_count": 29,
   "id": "c0068224",
   "metadata": {},
   "outputs": [
    {
     "data": {
      "text/plain": [
       "[{'projectID': 'P0001',\n",
       "  'projectName': 'Project 1',\n",
       "  'projectPriority': 'High',\n",
       "  'projectDuration': '2 weeks',\n",
       "  'projectComments': 'Important project',\n",
       "  'assignedToProjectTL': 'Team Lead 1',\n",
       "  'projectStartDate': '2023-11-01',\n",
       "  'projectDeadline': '2023-12-15',\n",
       "  'projectOwner': 'Project Owner 1',\n",
       "  'IsProjectCompleted': 'N'},\n",
       " {'projectID': 'P0002',\n",
       "  'projectName': 'Project 1',\n",
       "  'projectPriority': 'High',\n",
       "  'projectDuration': '2 weeks',\n",
       "  'projectComments': 'Important project',\n",
       "  'assignedToProjectTL': 'Team Lead 1',\n",
       "  'projectStartDate': '2023-11-01',\n",
       "  'projectDeadline': '2023-19-15',\n",
       "  'projectOwner': 'Project Owner 1',\n",
       "  'IsProjectCompleted': 'N'}]"
      ]
     },
     "execution_count": 29,
     "metadata": {},
     "output_type": "execute_result"
    }
   ],
   "source": [
    "projects_from_json"
   ]
  },
  {
   "cell_type": "code",
   "execution_count": null,
   "id": "1d548e90",
   "metadata": {},
   "outputs": [],
   "source": [
    "project_ids = [project['projectID'] for project in projects_from_json]\n",
    "\n",
    "    # Find the last inserted projectID\n",
    "last_inserted_project_id = max(project_ids, key=lambda x: int(x[1:]))"
   ]
  },
  {
   "cell_type": "code",
   "execution_count": null,
   "id": "673ee687",
   "metadata": {},
   "outputs": [],
   "source": [
    "int(last_inserted_project_id[1:])"
   ]
  },
  {
   "cell_type": "code",
   "execution_count": 22,
   "id": "327d5898",
   "metadata": {},
   "outputs": [
    {
     "data": {
      "text/html": [
       "<div>\n",
       "<style scoped>\n",
       "    .dataframe tbody tr th:only-of-type {\n",
       "        vertical-align: middle;\n",
       "    }\n",
       "\n",
       "    .dataframe tbody tr th {\n",
       "        vertical-align: top;\n",
       "    }\n",
       "\n",
       "    .dataframe thead th {\n",
       "        text-align: right;\n",
       "    }\n",
       "</style>\n",
       "<table border=\"1\" class=\"dataframe\">\n",
       "  <thead>\n",
       "    <tr style=\"text-align: right;\">\n",
       "      <th></th>\n",
       "      <th>projectID</th>\n",
       "      <th>projectName</th>\n",
       "      <th>projectPriority</th>\n",
       "      <th>projectDuration</th>\n",
       "      <th>projectComments</th>\n",
       "      <th>assignedToProjectTL</th>\n",
       "      <th>projectStartDate</th>\n",
       "      <th>projectDeadline</th>\n",
       "      <th>projectOwner</th>\n",
       "      <th>IsProjectCompleted</th>\n",
       "      <th>taskID</th>\n",
       "      <th>taskName</th>\n",
       "      <th>taskPriority</th>\n",
       "      <th>taskDuration</th>\n",
       "      <th>taskComments</th>\n",
       "      <th>assignedToTask</th>\n",
       "      <th>taskStartDate</th>\n",
       "      <th>taskDeadline</th>\n",
       "      <th>IsTaskCompleted</th>\n",
       "    </tr>\n",
       "  </thead>\n",
       "  <tbody>\n",
       "    <tr>\n",
       "      <th>0</th>\n",
       "      <td>P0001</td>\n",
       "      <td>Project 1</td>\n",
       "      <td>High</td>\n",
       "      <td>2 weeks</td>\n",
       "      <td>Important project</td>\n",
       "      <td>Team Lead 1</td>\n",
       "      <td>2023-01-01</td>\n",
       "      <td>2023-01-15</td>\n",
       "      <td>Project Owner 1</td>\n",
       "      <td>N</td>\n",
       "      <td>T0001</td>\n",
       "      <td>Task 1</td>\n",
       "      <td>Medium</td>\n",
       "      <td>1 week</td>\n",
       "      <td>Urgent task</td>\n",
       "      <td>Team Member 1</td>\n",
       "      <td>2023-01-02</td>\n",
       "      <td>2023-01-08</td>\n",
       "      <td>N</td>\n",
       "    </tr>\n",
       "    <tr>\n",
       "      <th>1</th>\n",
       "      <td>P0001</td>\n",
       "      <td>Project 1</td>\n",
       "      <td>High</td>\n",
       "      <td>2 weeks</td>\n",
       "      <td>Important project</td>\n",
       "      <td>Team Lead 1</td>\n",
       "      <td>2023-01-01</td>\n",
       "      <td>2023-01-15</td>\n",
       "      <td>Project Owner 1</td>\n",
       "      <td>N</td>\n",
       "      <td>T0002</td>\n",
       "      <td>Task 1</td>\n",
       "      <td>Medium</td>\n",
       "      <td>1 week</td>\n",
       "      <td>Urgent task</td>\n",
       "      <td>Team Member 1</td>\n",
       "      <td>2023-01-02</td>\n",
       "      <td>2023-01-08</td>\n",
       "      <td>N</td>\n",
       "    </tr>\n",
       "    <tr>\n",
       "      <th>2</th>\n",
       "      <td>P0002</td>\n",
       "      <td>Project 1</td>\n",
       "      <td>High</td>\n",
       "      <td>2 weeks</td>\n",
       "      <td>Important project</td>\n",
       "      <td>Team Lead 1</td>\n",
       "      <td>2023-01-01</td>\n",
       "      <td>2023-01-15</td>\n",
       "      <td>Project Owner 1</td>\n",
       "      <td>N</td>\n",
       "      <td>NaN</td>\n",
       "      <td>NaN</td>\n",
       "      <td>NaN</td>\n",
       "      <td>NaN</td>\n",
       "      <td>NaN</td>\n",
       "      <td>NaN</td>\n",
       "      <td>NaN</td>\n",
       "      <td>NaN</td>\n",
       "      <td>NaN</td>\n",
       "    </tr>\n",
       "  </tbody>\n",
       "</table>\n",
       "</div>"
      ],
      "text/plain": [
       "  projectID projectName projectPriority projectDuration    projectComments  \\\n",
       "0     P0001   Project 1            High         2 weeks  Important project   \n",
       "1     P0001   Project 1            High         2 weeks  Important project   \n",
       "2     P0002   Project 1            High         2 weeks  Important project   \n",
       "\n",
       "  assignedToProjectTL projectStartDate projectDeadline     projectOwner  \\\n",
       "0         Team Lead 1       2023-01-01      2023-01-15  Project Owner 1   \n",
       "1         Team Lead 1       2023-01-01      2023-01-15  Project Owner 1   \n",
       "2         Team Lead 1       2023-01-01      2023-01-15  Project Owner 1   \n",
       "\n",
       "  IsProjectCompleted taskID taskName taskPriority taskDuration taskComments  \\\n",
       "0                  N  T0001   Task 1       Medium       1 week  Urgent task   \n",
       "1                  N  T0002   Task 1       Medium       1 week  Urgent task   \n",
       "2                  N    NaN      NaN          NaN          NaN          NaN   \n",
       "\n",
       "  assignedToTask taskStartDate taskDeadline IsTaskCompleted  \n",
       "0  Team Member 1    2023-01-02   2023-01-08               N  \n",
       "1  Team Member 1    2023-01-02   2023-01-08               N  \n",
       "2            NaN           NaN          NaN             NaN  "
      ]
     },
     "execution_count": 22,
     "metadata": {},
     "output_type": "execute_result"
    }
   ],
   "source": [
    "import pandas as pd\n",
    "# Convert data to pandas DataFrame\n",
    "task_df = pd.DataFrame(tasks_from_json)\n",
    "project_df = pd.DataFrame(projects_from_json)\n",
    "\n",
    "# Merge the two DataFrames on 'projectID'\n",
    "result_df = pd.merge(project_df, task_df, on='projectID', how='left')\n",
    "\n",
    "# Display the result\n",
    "result_df.head()"
   ]
  },
  {
   "cell_type": "code",
   "execution_count": 17,
   "id": "1a6a6eee",
   "metadata": {},
   "outputs": [
    {
     "name": "stdout",
     "output_type": "stream",
     "text": [
      "Enter the Project ID: P0001\n"
     ]
    }
   ],
   "source": [
    "project_id_input = input(\"Enter the Project ID: \")\n"
   ]
  },
  {
   "cell_type": "code",
   "execution_count": 18,
   "id": "81e048d7",
   "metadata": {},
   "outputs": [
    {
     "data": {
      "text/plain": [
       "[{'Task': 'Task 2',\n",
       "  'Start': '2023-11-02',\n",
       "  'Finish': '2023-12-08',\n",
       "  'Priority': 'Medium'},\n",
       " {'Task': 'Task 3',\n",
       "  'Start': '2023-11-02',\n",
       "  'Finish': '2023-12-18',\n",
       "  'Priority': 'Medium'},\n",
       " {'Task': 'Task 4',\n",
       "  'Start': '2023-11-02',\n",
       "  'Finish': '2023-12-28',\n",
       "  'Priority': 'Medium'}]"
      ]
     },
     "execution_count": 18,
     "metadata": {},
     "output_type": "execute_result"
    }
   ],
   "source": [
    "data = []\n",
    "tasks_from_json = file_handler.read_from_json('task.json')\n",
    "task_list = [task for task in tasks_from_json if task['projectID'] == project_id_input]\n",
    "\n",
    "for x in task_list:\n",
    "    data.append(dict(Task=x['taskName'], Start=x['taskStartDate'], Finish=x['taskDeadline'], Priority=x['taskPriority']))\n",
    "\n",
    "data"
   ]
  },
  {
   "cell_type": "code",
   "execution_count": 25,
   "id": "169470bc",
   "metadata": {},
   "outputs": [
    {
     "data": {
      "application/vnd.plotly.v1+json": {
       "config": {
        "plotlyServerURL": "https://plot.ly"
       },
       "data": [
        {
         "alignmentgroup": "True",
         "base": [
          "2023-11-02",
          "2023-11-02",
          "2023-11-02"
         ],
         "customdata": [
          [
           "Medium"
          ],
          [
           "Medium"
          ],
          [
           "Medium"
          ]
         ],
         "hovertemplate": "Start=%{base}<br>Finish=%{x}<br>Project: P0001=%{y}<br>Priority=%{customdata[0]}<extra></extra>",
         "legendgroup": "",
         "marker": {
          "color": "#636efa",
          "pattern": {
           "shape": ""
          }
         },
         "name": "",
         "offsetgroup": "",
         "orientation": "h",
         "showlegend": false,
         "textposition": "auto",
         "type": "bar",
         "x": [
          3110400000,
          3974400000,
          4838400000
         ],
         "xaxis": "x",
         "y": [
          "Task 2",
          "Task 3",
          "Task 4"
         ],
         "yaxis": "y"
        }
       ],
       "layout": {
        "barmode": "overlay",
        "legend": {
         "tracegroupgap": 0
        },
        "margin": {
         "t": 60
        },
        "shapes": [
         {
          "line": {
           "color": "black",
           "width": 2
          },
          "type": "line",
          "x0": "2023-12-01",
          "x1": "2023-12-01",
          "y0": 0,
          "y1": 1,
          "yref": "paper"
         }
        ],
        "template": {
         "data": {
          "bar": [
           {
            "error_x": {
             "color": "#2a3f5f"
            },
            "error_y": {
             "color": "#2a3f5f"
            },
            "marker": {
             "line": {
              "color": "#E5ECF6",
              "width": 0.5
             },
             "pattern": {
              "fillmode": "overlay",
              "size": 10,
              "solidity": 0.2
             }
            },
            "type": "bar"
           }
          ],
          "barpolar": [
           {
            "marker": {
             "line": {
              "color": "#E5ECF6",
              "width": 0.5
             },
             "pattern": {
              "fillmode": "overlay",
              "size": 10,
              "solidity": 0.2
             }
            },
            "type": "barpolar"
           }
          ],
          "carpet": [
           {
            "aaxis": {
             "endlinecolor": "#2a3f5f",
             "gridcolor": "white",
             "linecolor": "white",
             "minorgridcolor": "white",
             "startlinecolor": "#2a3f5f"
            },
            "baxis": {
             "endlinecolor": "#2a3f5f",
             "gridcolor": "white",
             "linecolor": "white",
             "minorgridcolor": "white",
             "startlinecolor": "#2a3f5f"
            },
            "type": "carpet"
           }
          ],
          "choropleth": [
           {
            "colorbar": {
             "outlinewidth": 0,
             "ticks": ""
            },
            "type": "choropleth"
           }
          ],
          "contour": [
           {
            "colorbar": {
             "outlinewidth": 0,
             "ticks": ""
            },
            "colorscale": [
             [
              0,
              "#0d0887"
             ],
             [
              0.1111111111111111,
              "#46039f"
             ],
             [
              0.2222222222222222,
              "#7201a8"
             ],
             [
              0.3333333333333333,
              "#9c179e"
             ],
             [
              0.4444444444444444,
              "#bd3786"
             ],
             [
              0.5555555555555556,
              "#d8576b"
             ],
             [
              0.6666666666666666,
              "#ed7953"
             ],
             [
              0.7777777777777778,
              "#fb9f3a"
             ],
             [
              0.8888888888888888,
              "#fdca26"
             ],
             [
              1,
              "#f0f921"
             ]
            ],
            "type": "contour"
           }
          ],
          "contourcarpet": [
           {
            "colorbar": {
             "outlinewidth": 0,
             "ticks": ""
            },
            "type": "contourcarpet"
           }
          ],
          "heatmap": [
           {
            "colorbar": {
             "outlinewidth": 0,
             "ticks": ""
            },
            "colorscale": [
             [
              0,
              "#0d0887"
             ],
             [
              0.1111111111111111,
              "#46039f"
             ],
             [
              0.2222222222222222,
              "#7201a8"
             ],
             [
              0.3333333333333333,
              "#9c179e"
             ],
             [
              0.4444444444444444,
              "#bd3786"
             ],
             [
              0.5555555555555556,
              "#d8576b"
             ],
             [
              0.6666666666666666,
              "#ed7953"
             ],
             [
              0.7777777777777778,
              "#fb9f3a"
             ],
             [
              0.8888888888888888,
              "#fdca26"
             ],
             [
              1,
              "#f0f921"
             ]
            ],
            "type": "heatmap"
           }
          ],
          "heatmapgl": [
           {
            "colorbar": {
             "outlinewidth": 0,
             "ticks": ""
            },
            "colorscale": [
             [
              0,
              "#0d0887"
             ],
             [
              0.1111111111111111,
              "#46039f"
             ],
             [
              0.2222222222222222,
              "#7201a8"
             ],
             [
              0.3333333333333333,
              "#9c179e"
             ],
             [
              0.4444444444444444,
              "#bd3786"
             ],
             [
              0.5555555555555556,
              "#d8576b"
             ],
             [
              0.6666666666666666,
              "#ed7953"
             ],
             [
              0.7777777777777778,
              "#fb9f3a"
             ],
             [
              0.8888888888888888,
              "#fdca26"
             ],
             [
              1,
              "#f0f921"
             ]
            ],
            "type": "heatmapgl"
           }
          ],
          "histogram": [
           {
            "marker": {
             "pattern": {
              "fillmode": "overlay",
              "size": 10,
              "solidity": 0.2
             }
            },
            "type": "histogram"
           }
          ],
          "histogram2d": [
           {
            "colorbar": {
             "outlinewidth": 0,
             "ticks": ""
            },
            "colorscale": [
             [
              0,
              "#0d0887"
             ],
             [
              0.1111111111111111,
              "#46039f"
             ],
             [
              0.2222222222222222,
              "#7201a8"
             ],
             [
              0.3333333333333333,
              "#9c179e"
             ],
             [
              0.4444444444444444,
              "#bd3786"
             ],
             [
              0.5555555555555556,
              "#d8576b"
             ],
             [
              0.6666666666666666,
              "#ed7953"
             ],
             [
              0.7777777777777778,
              "#fb9f3a"
             ],
             [
              0.8888888888888888,
              "#fdca26"
             ],
             [
              1,
              "#f0f921"
             ]
            ],
            "type": "histogram2d"
           }
          ],
          "histogram2dcontour": [
           {
            "colorbar": {
             "outlinewidth": 0,
             "ticks": ""
            },
            "colorscale": [
             [
              0,
              "#0d0887"
             ],
             [
              0.1111111111111111,
              "#46039f"
             ],
             [
              0.2222222222222222,
              "#7201a8"
             ],
             [
              0.3333333333333333,
              "#9c179e"
             ],
             [
              0.4444444444444444,
              "#bd3786"
             ],
             [
              0.5555555555555556,
              "#d8576b"
             ],
             [
              0.6666666666666666,
              "#ed7953"
             ],
             [
              0.7777777777777778,
              "#fb9f3a"
             ],
             [
              0.8888888888888888,
              "#fdca26"
             ],
             [
              1,
              "#f0f921"
             ]
            ],
            "type": "histogram2dcontour"
           }
          ],
          "mesh3d": [
           {
            "colorbar": {
             "outlinewidth": 0,
             "ticks": ""
            },
            "type": "mesh3d"
           }
          ],
          "parcoords": [
           {
            "line": {
             "colorbar": {
              "outlinewidth": 0,
              "ticks": ""
             }
            },
            "type": "parcoords"
           }
          ],
          "pie": [
           {
            "automargin": true,
            "type": "pie"
           }
          ],
          "scatter": [
           {
            "fillpattern": {
             "fillmode": "overlay",
             "size": 10,
             "solidity": 0.2
            },
            "type": "scatter"
           }
          ],
          "scatter3d": [
           {
            "line": {
             "colorbar": {
              "outlinewidth": 0,
              "ticks": ""
             }
            },
            "marker": {
             "colorbar": {
              "outlinewidth": 0,
              "ticks": ""
             }
            },
            "type": "scatter3d"
           }
          ],
          "scattercarpet": [
           {
            "marker": {
             "colorbar": {
              "outlinewidth": 0,
              "ticks": ""
             }
            },
            "type": "scattercarpet"
           }
          ],
          "scattergeo": [
           {
            "marker": {
             "colorbar": {
              "outlinewidth": 0,
              "ticks": ""
             }
            },
            "type": "scattergeo"
           }
          ],
          "scattergl": [
           {
            "marker": {
             "colorbar": {
              "outlinewidth": 0,
              "ticks": ""
             }
            },
            "type": "scattergl"
           }
          ],
          "scattermapbox": [
           {
            "marker": {
             "colorbar": {
              "outlinewidth": 0,
              "ticks": ""
             }
            },
            "type": "scattermapbox"
           }
          ],
          "scatterpolar": [
           {
            "marker": {
             "colorbar": {
              "outlinewidth": 0,
              "ticks": ""
             }
            },
            "type": "scatterpolar"
           }
          ],
          "scatterpolargl": [
           {
            "marker": {
             "colorbar": {
              "outlinewidth": 0,
              "ticks": ""
             }
            },
            "type": "scatterpolargl"
           }
          ],
          "scatterternary": [
           {
            "marker": {
             "colorbar": {
              "outlinewidth": 0,
              "ticks": ""
             }
            },
            "type": "scatterternary"
           }
          ],
          "surface": [
           {
            "colorbar": {
             "outlinewidth": 0,
             "ticks": ""
            },
            "colorscale": [
             [
              0,
              "#0d0887"
             ],
             [
              0.1111111111111111,
              "#46039f"
             ],
             [
              0.2222222222222222,
              "#7201a8"
             ],
             [
              0.3333333333333333,
              "#9c179e"
             ],
             [
              0.4444444444444444,
              "#bd3786"
             ],
             [
              0.5555555555555556,
              "#d8576b"
             ],
             [
              0.6666666666666666,
              "#ed7953"
             ],
             [
              0.7777777777777778,
              "#fb9f3a"
             ],
             [
              0.8888888888888888,
              "#fdca26"
             ],
             [
              1,
              "#f0f921"
             ]
            ],
            "type": "surface"
           }
          ],
          "table": [
           {
            "cells": {
             "fill": {
              "color": "#EBF0F8"
             },
             "line": {
              "color": "white"
             }
            },
            "header": {
             "fill": {
              "color": "#C8D4E3"
             },
             "line": {
              "color": "white"
             }
            },
            "type": "table"
           }
          ]
         },
         "layout": {
          "annotationdefaults": {
           "arrowcolor": "#2a3f5f",
           "arrowhead": 0,
           "arrowwidth": 1
          },
          "autotypenumbers": "strict",
          "coloraxis": {
           "colorbar": {
            "outlinewidth": 0,
            "ticks": ""
           }
          },
          "colorscale": {
           "diverging": [
            [
             0,
             "#8e0152"
            ],
            [
             0.1,
             "#c51b7d"
            ],
            [
             0.2,
             "#de77ae"
            ],
            [
             0.3,
             "#f1b6da"
            ],
            [
             0.4,
             "#fde0ef"
            ],
            [
             0.5,
             "#f7f7f7"
            ],
            [
             0.6,
             "#e6f5d0"
            ],
            [
             0.7,
             "#b8e186"
            ],
            [
             0.8,
             "#7fbc41"
            ],
            [
             0.9,
             "#4d9221"
            ],
            [
             1,
             "#276419"
            ]
           ],
           "sequential": [
            [
             0,
             "#0d0887"
            ],
            [
             0.1111111111111111,
             "#46039f"
            ],
            [
             0.2222222222222222,
             "#7201a8"
            ],
            [
             0.3333333333333333,
             "#9c179e"
            ],
            [
             0.4444444444444444,
             "#bd3786"
            ],
            [
             0.5555555555555556,
             "#d8576b"
            ],
            [
             0.6666666666666666,
             "#ed7953"
            ],
            [
             0.7777777777777778,
             "#fb9f3a"
            ],
            [
             0.8888888888888888,
             "#fdca26"
            ],
            [
             1,
             "#f0f921"
            ]
           ],
           "sequentialminus": [
            [
             0,
             "#0d0887"
            ],
            [
             0.1111111111111111,
             "#46039f"
            ],
            [
             0.2222222222222222,
             "#7201a8"
            ],
            [
             0.3333333333333333,
             "#9c179e"
            ],
            [
             0.4444444444444444,
             "#bd3786"
            ],
            [
             0.5555555555555556,
             "#d8576b"
            ],
            [
             0.6666666666666666,
             "#ed7953"
            ],
            [
             0.7777777777777778,
             "#fb9f3a"
            ],
            [
             0.8888888888888888,
             "#fdca26"
            ],
            [
             1,
             "#f0f921"
            ]
           ]
          },
          "colorway": [
           "#636efa",
           "#EF553B",
           "#00cc96",
           "#ab63fa",
           "#FFA15A",
           "#19d3f3",
           "#FF6692",
           "#B6E880",
           "#FF97FF",
           "#FECB52"
          ],
          "font": {
           "color": "#2a3f5f"
          },
          "geo": {
           "bgcolor": "white",
           "lakecolor": "white",
           "landcolor": "#E5ECF6",
           "showlakes": true,
           "showland": true,
           "subunitcolor": "white"
          },
          "hoverlabel": {
           "align": "left"
          },
          "hovermode": "closest",
          "mapbox": {
           "style": "light"
          },
          "paper_bgcolor": "white",
          "plot_bgcolor": "#E5ECF6",
          "polar": {
           "angularaxis": {
            "gridcolor": "white",
            "linecolor": "white",
            "ticks": ""
           },
           "bgcolor": "#E5ECF6",
           "radialaxis": {
            "gridcolor": "white",
            "linecolor": "white",
            "ticks": ""
           }
          },
          "scene": {
           "xaxis": {
            "backgroundcolor": "#E5ECF6",
            "gridcolor": "white",
            "gridwidth": 2,
            "linecolor": "white",
            "showbackground": true,
            "ticks": "",
            "zerolinecolor": "white"
           },
           "yaxis": {
            "backgroundcolor": "#E5ECF6",
            "gridcolor": "white",
            "gridwidth": 2,
            "linecolor": "white",
            "showbackground": true,
            "ticks": "",
            "zerolinecolor": "white"
           },
           "zaxis": {
            "backgroundcolor": "#E5ECF6",
            "gridcolor": "white",
            "gridwidth": 2,
            "linecolor": "white",
            "showbackground": true,
            "ticks": "",
            "zerolinecolor": "white"
           }
          },
          "shapedefaults": {
           "line": {
            "color": "#2a3f5f"
           }
          },
          "ternary": {
           "aaxis": {
            "gridcolor": "white",
            "linecolor": "white",
            "ticks": ""
           },
           "baxis": {
            "gridcolor": "white",
            "linecolor": "white",
            "ticks": ""
           },
           "bgcolor": "#E5ECF6",
           "caxis": {
            "gridcolor": "white",
            "linecolor": "white",
            "ticks": ""
           }
          },
          "title": {
           "x": 0.05
          },
          "xaxis": {
           "automargin": true,
           "gridcolor": "white",
           "linecolor": "white",
           "ticks": "",
           "title": {
            "standoff": 15
           },
           "zerolinecolor": "white",
           "zerolinewidth": 2
          },
          "yaxis": {
           "automargin": true,
           "gridcolor": "white",
           "linecolor": "white",
           "ticks": "",
           "title": {
            "standoff": 15
           },
           "zerolinecolor": "white",
           "zerolinewidth": 2
          }
         }
        },
        "xaxis": {
         "anchor": "y",
         "domain": [
          0,
          1
         ],
         "type": "date"
        },
        "yaxis": {
         "anchor": "x",
         "domain": [
          0,
          1
         ],
         "title": {
          "text": "Project: P0001"
         }
        }
       }
      },
      "text/html": [
       "<div>                            <div id=\"c1b7d804-e79e-4665-82ae-af63d6a0b1b4\" class=\"plotly-graph-div\" style=\"height:525px; width:100%;\"></div>            <script type=\"text/javascript\">                require([\"plotly\"], function(Plotly) {                    window.PLOTLYENV=window.PLOTLYENV || {};                                    if (document.getElementById(\"c1b7d804-e79e-4665-82ae-af63d6a0b1b4\")) {                    Plotly.newPlot(                        \"c1b7d804-e79e-4665-82ae-af63d6a0b1b4\",                        [{\"alignmentgroup\":\"True\",\"base\":[\"2023-11-02\",\"2023-11-02\",\"2023-11-02\"],\"customdata\":[[\"Medium\"],[\"Medium\"],[\"Medium\"]],\"hovertemplate\":\"Start=%{base}\\u003cbr\\u003eFinish=%{x}\\u003cbr\\u003eProject: P0001=%{y}\\u003cbr\\u003ePriority=%{customdata[0]}\\u003cextra\\u003e\\u003c\\u002fextra\\u003e\",\"legendgroup\":\"\",\"marker\":{\"color\":\"#636efa\",\"pattern\":{\"shape\":\"\"}},\"name\":\"\",\"offsetgroup\":\"\",\"orientation\":\"h\",\"showlegend\":false,\"textposition\":\"auto\",\"x\":[3110400000.0,3974400000.0,4838400000.0],\"xaxis\":\"x\",\"y\":[\"Task 2\",\"Task 3\",\"Task 4\"],\"yaxis\":\"y\",\"type\":\"bar\"}],                        {\"template\":{\"data\":{\"histogram2dcontour\":[{\"type\":\"histogram2dcontour\",\"colorbar\":{\"outlinewidth\":0,\"ticks\":\"\"},\"colorscale\":[[0.0,\"#0d0887\"],[0.1111111111111111,\"#46039f\"],[0.2222222222222222,\"#7201a8\"],[0.3333333333333333,\"#9c179e\"],[0.4444444444444444,\"#bd3786\"],[0.5555555555555556,\"#d8576b\"],[0.6666666666666666,\"#ed7953\"],[0.7777777777777778,\"#fb9f3a\"],[0.8888888888888888,\"#fdca26\"],[1.0,\"#f0f921\"]]}],\"choropleth\":[{\"type\":\"choropleth\",\"colorbar\":{\"outlinewidth\":0,\"ticks\":\"\"}}],\"histogram2d\":[{\"type\":\"histogram2d\",\"colorbar\":{\"outlinewidth\":0,\"ticks\":\"\"},\"colorscale\":[[0.0,\"#0d0887\"],[0.1111111111111111,\"#46039f\"],[0.2222222222222222,\"#7201a8\"],[0.3333333333333333,\"#9c179e\"],[0.4444444444444444,\"#bd3786\"],[0.5555555555555556,\"#d8576b\"],[0.6666666666666666,\"#ed7953\"],[0.7777777777777778,\"#fb9f3a\"],[0.8888888888888888,\"#fdca26\"],[1.0,\"#f0f921\"]]}],\"heatmap\":[{\"type\":\"heatmap\",\"colorbar\":{\"outlinewidth\":0,\"ticks\":\"\"},\"colorscale\":[[0.0,\"#0d0887\"],[0.1111111111111111,\"#46039f\"],[0.2222222222222222,\"#7201a8\"],[0.3333333333333333,\"#9c179e\"],[0.4444444444444444,\"#bd3786\"],[0.5555555555555556,\"#d8576b\"],[0.6666666666666666,\"#ed7953\"],[0.7777777777777778,\"#fb9f3a\"],[0.8888888888888888,\"#fdca26\"],[1.0,\"#f0f921\"]]}],\"heatmapgl\":[{\"type\":\"heatmapgl\",\"colorbar\":{\"outlinewidth\":0,\"ticks\":\"\"},\"colorscale\":[[0.0,\"#0d0887\"],[0.1111111111111111,\"#46039f\"],[0.2222222222222222,\"#7201a8\"],[0.3333333333333333,\"#9c179e\"],[0.4444444444444444,\"#bd3786\"],[0.5555555555555556,\"#d8576b\"],[0.6666666666666666,\"#ed7953\"],[0.7777777777777778,\"#fb9f3a\"],[0.8888888888888888,\"#fdca26\"],[1.0,\"#f0f921\"]]}],\"contourcarpet\":[{\"type\":\"contourcarpet\",\"colorbar\":{\"outlinewidth\":0,\"ticks\":\"\"}}],\"contour\":[{\"type\":\"contour\",\"colorbar\":{\"outlinewidth\":0,\"ticks\":\"\"},\"colorscale\":[[0.0,\"#0d0887\"],[0.1111111111111111,\"#46039f\"],[0.2222222222222222,\"#7201a8\"],[0.3333333333333333,\"#9c179e\"],[0.4444444444444444,\"#bd3786\"],[0.5555555555555556,\"#d8576b\"],[0.6666666666666666,\"#ed7953\"],[0.7777777777777778,\"#fb9f3a\"],[0.8888888888888888,\"#fdca26\"],[1.0,\"#f0f921\"]]}],\"surface\":[{\"type\":\"surface\",\"colorbar\":{\"outlinewidth\":0,\"ticks\":\"\"},\"colorscale\":[[0.0,\"#0d0887\"],[0.1111111111111111,\"#46039f\"],[0.2222222222222222,\"#7201a8\"],[0.3333333333333333,\"#9c179e\"],[0.4444444444444444,\"#bd3786\"],[0.5555555555555556,\"#d8576b\"],[0.6666666666666666,\"#ed7953\"],[0.7777777777777778,\"#fb9f3a\"],[0.8888888888888888,\"#fdca26\"],[1.0,\"#f0f921\"]]}],\"mesh3d\":[{\"type\":\"mesh3d\",\"colorbar\":{\"outlinewidth\":0,\"ticks\":\"\"}}],\"scatter\":[{\"fillpattern\":{\"fillmode\":\"overlay\",\"size\":10,\"solidity\":0.2},\"type\":\"scatter\"}],\"parcoords\":[{\"type\":\"parcoords\",\"line\":{\"colorbar\":{\"outlinewidth\":0,\"ticks\":\"\"}}}],\"scatterpolargl\":[{\"type\":\"scatterpolargl\",\"marker\":{\"colorbar\":{\"outlinewidth\":0,\"ticks\":\"\"}}}],\"bar\":[{\"error_x\":{\"color\":\"#2a3f5f\"},\"error_y\":{\"color\":\"#2a3f5f\"},\"marker\":{\"line\":{\"color\":\"#E5ECF6\",\"width\":0.5},\"pattern\":{\"fillmode\":\"overlay\",\"size\":10,\"solidity\":0.2}},\"type\":\"bar\"}],\"scattergeo\":[{\"type\":\"scattergeo\",\"marker\":{\"colorbar\":{\"outlinewidth\":0,\"ticks\":\"\"}}}],\"scatterpolar\":[{\"type\":\"scatterpolar\",\"marker\":{\"colorbar\":{\"outlinewidth\":0,\"ticks\":\"\"}}}],\"histogram\":[{\"marker\":{\"pattern\":{\"fillmode\":\"overlay\",\"size\":10,\"solidity\":0.2}},\"type\":\"histogram\"}],\"scattergl\":[{\"type\":\"scattergl\",\"marker\":{\"colorbar\":{\"outlinewidth\":0,\"ticks\":\"\"}}}],\"scatter3d\":[{\"type\":\"scatter3d\",\"line\":{\"colorbar\":{\"outlinewidth\":0,\"ticks\":\"\"}},\"marker\":{\"colorbar\":{\"outlinewidth\":0,\"ticks\":\"\"}}}],\"scattermapbox\":[{\"type\":\"scattermapbox\",\"marker\":{\"colorbar\":{\"outlinewidth\":0,\"ticks\":\"\"}}}],\"scatterternary\":[{\"type\":\"scatterternary\",\"marker\":{\"colorbar\":{\"outlinewidth\":0,\"ticks\":\"\"}}}],\"scattercarpet\":[{\"type\":\"scattercarpet\",\"marker\":{\"colorbar\":{\"outlinewidth\":0,\"ticks\":\"\"}}}],\"carpet\":[{\"aaxis\":{\"endlinecolor\":\"#2a3f5f\",\"gridcolor\":\"white\",\"linecolor\":\"white\",\"minorgridcolor\":\"white\",\"startlinecolor\":\"#2a3f5f\"},\"baxis\":{\"endlinecolor\":\"#2a3f5f\",\"gridcolor\":\"white\",\"linecolor\":\"white\",\"minorgridcolor\":\"white\",\"startlinecolor\":\"#2a3f5f\"},\"type\":\"carpet\"}],\"table\":[{\"cells\":{\"fill\":{\"color\":\"#EBF0F8\"},\"line\":{\"color\":\"white\"}},\"header\":{\"fill\":{\"color\":\"#C8D4E3\"},\"line\":{\"color\":\"white\"}},\"type\":\"table\"}],\"barpolar\":[{\"marker\":{\"line\":{\"color\":\"#E5ECF6\",\"width\":0.5},\"pattern\":{\"fillmode\":\"overlay\",\"size\":10,\"solidity\":0.2}},\"type\":\"barpolar\"}],\"pie\":[{\"automargin\":true,\"type\":\"pie\"}]},\"layout\":{\"autotypenumbers\":\"strict\",\"colorway\":[\"#636efa\",\"#EF553B\",\"#00cc96\",\"#ab63fa\",\"#FFA15A\",\"#19d3f3\",\"#FF6692\",\"#B6E880\",\"#FF97FF\",\"#FECB52\"],\"font\":{\"color\":\"#2a3f5f\"},\"hovermode\":\"closest\",\"hoverlabel\":{\"align\":\"left\"},\"paper_bgcolor\":\"white\",\"plot_bgcolor\":\"#E5ECF6\",\"polar\":{\"bgcolor\":\"#E5ECF6\",\"angularaxis\":{\"gridcolor\":\"white\",\"linecolor\":\"white\",\"ticks\":\"\"},\"radialaxis\":{\"gridcolor\":\"white\",\"linecolor\":\"white\",\"ticks\":\"\"}},\"ternary\":{\"bgcolor\":\"#E5ECF6\",\"aaxis\":{\"gridcolor\":\"white\",\"linecolor\":\"white\",\"ticks\":\"\"},\"baxis\":{\"gridcolor\":\"white\",\"linecolor\":\"white\",\"ticks\":\"\"},\"caxis\":{\"gridcolor\":\"white\",\"linecolor\":\"white\",\"ticks\":\"\"}},\"coloraxis\":{\"colorbar\":{\"outlinewidth\":0,\"ticks\":\"\"}},\"colorscale\":{\"sequential\":[[0.0,\"#0d0887\"],[0.1111111111111111,\"#46039f\"],[0.2222222222222222,\"#7201a8\"],[0.3333333333333333,\"#9c179e\"],[0.4444444444444444,\"#bd3786\"],[0.5555555555555556,\"#d8576b\"],[0.6666666666666666,\"#ed7953\"],[0.7777777777777778,\"#fb9f3a\"],[0.8888888888888888,\"#fdca26\"],[1.0,\"#f0f921\"]],\"sequentialminus\":[[0.0,\"#0d0887\"],[0.1111111111111111,\"#46039f\"],[0.2222222222222222,\"#7201a8\"],[0.3333333333333333,\"#9c179e\"],[0.4444444444444444,\"#bd3786\"],[0.5555555555555556,\"#d8576b\"],[0.6666666666666666,\"#ed7953\"],[0.7777777777777778,\"#fb9f3a\"],[0.8888888888888888,\"#fdca26\"],[1.0,\"#f0f921\"]],\"diverging\":[[0,\"#8e0152\"],[0.1,\"#c51b7d\"],[0.2,\"#de77ae\"],[0.3,\"#f1b6da\"],[0.4,\"#fde0ef\"],[0.5,\"#f7f7f7\"],[0.6,\"#e6f5d0\"],[0.7,\"#b8e186\"],[0.8,\"#7fbc41\"],[0.9,\"#4d9221\"],[1,\"#276419\"]]},\"xaxis\":{\"gridcolor\":\"white\",\"linecolor\":\"white\",\"ticks\":\"\",\"title\":{\"standoff\":15},\"zerolinecolor\":\"white\",\"automargin\":true,\"zerolinewidth\":2},\"yaxis\":{\"gridcolor\":\"white\",\"linecolor\":\"white\",\"ticks\":\"\",\"title\":{\"standoff\":15},\"zerolinecolor\":\"white\",\"automargin\":true,\"zerolinewidth\":2},\"scene\":{\"xaxis\":{\"backgroundcolor\":\"#E5ECF6\",\"gridcolor\":\"white\",\"linecolor\":\"white\",\"showbackground\":true,\"ticks\":\"\",\"zerolinecolor\":\"white\",\"gridwidth\":2},\"yaxis\":{\"backgroundcolor\":\"#E5ECF6\",\"gridcolor\":\"white\",\"linecolor\":\"white\",\"showbackground\":true,\"ticks\":\"\",\"zerolinecolor\":\"white\",\"gridwidth\":2},\"zaxis\":{\"backgroundcolor\":\"#E5ECF6\",\"gridcolor\":\"white\",\"linecolor\":\"white\",\"showbackground\":true,\"ticks\":\"\",\"zerolinecolor\":\"white\",\"gridwidth\":2}},\"shapedefaults\":{\"line\":{\"color\":\"#2a3f5f\"}},\"annotationdefaults\":{\"arrowcolor\":\"#2a3f5f\",\"arrowhead\":0,\"arrowwidth\":1},\"geo\":{\"bgcolor\":\"white\",\"landcolor\":\"#E5ECF6\",\"subunitcolor\":\"white\",\"showland\":true,\"showlakes\":true,\"lakecolor\":\"white\"},\"title\":{\"x\":0.05},\"mapbox\":{\"style\":\"light\"}}},\"xaxis\":{\"anchor\":\"y\",\"domain\":[0.0,1.0],\"type\":\"date\"},\"yaxis\":{\"anchor\":\"x\",\"domain\":[0.0,1.0],\"title\":{\"text\":\"Project: P0001\"}},\"legend\":{\"tracegroupgap\":0},\"margin\":{\"t\":60},\"barmode\":\"overlay\",\"shapes\":[{\"line\":{\"color\":\"black\",\"width\":2},\"type\":\"line\",\"x0\":\"2023-12-01\",\"x1\":\"2023-12-01\",\"y0\":0,\"y1\":1,\"yref\":\"paper\"}]},                        {\"responsive\": true}                    ).then(function(){\n",
       "                            \n",
       "var gd = document.getElementById('c1b7d804-e79e-4665-82ae-af63d6a0b1b4');\n",
       "var x = new MutationObserver(function (mutations, observer) {{\n",
       "        var display = window.getComputedStyle(gd).display;\n",
       "        if (!display || display === 'none') {{\n",
       "            console.log([gd, 'removed!']);\n",
       "            Plotly.purge(gd);\n",
       "            observer.disconnect();\n",
       "        }}\n",
       "}});\n",
       "\n",
       "// Listen for the removal of the full notebook cells\n",
       "var notebookContainer = gd.closest('#notebook-container');\n",
       "if (notebookContainer) {{\n",
       "    x.observe(notebookContainer, {childList: true});\n",
       "}}\n",
       "\n",
       "// Listen for the clearing of the current output cell\n",
       "var outputEl = gd.closest('.output');\n",
       "if (outputEl) {{\n",
       "    x.observe(outputEl, {childList: true});\n",
       "}}\n",
       "\n",
       "                        })                };                });            </script>        </div>"
      ]
     },
     "metadata": {},
     "output_type": "display_data"
    }
   ],
   "source": [
    "\n",
    "# Create a Gantt chart\n",
    "fig = px.timeline(data, x_start=\"Start\", x_end=\"Finish\", y=\"Task\", hover_data={\"Priority\": True}, labels={\"Task\": f\"Project: {project_id_input}\"})\n",
    "\n",
    "# Current date\n",
    "current_date = datetime.datetime.now().strftime('%Y-%m-%d')\n",
    "\n",
    "# Add a vertical line for the current date\n",
    "fig.update_layout(shapes=[\n",
    "    dict(\n",
    "        type=\"line\",\n",
    "        x0=current_date,\n",
    "        x1=current_date,\n",
    "        y0=0,\n",
    "        y1=1,\n",
    "        yref=\"paper\",\n",
    "        line=dict(color=\"black\", width=2),\n",
    "    )\n",
    "])\n",
    "\n",
    "# Show the Gantt chart\n",
    "fig.show()"
   ]
  },
  {
   "cell_type": "code",
   "execution_count": null,
   "id": "7bff2038",
   "metadata": {},
   "outputs": [],
   "source": []
  }
 ],
 "metadata": {
  "kernelspec": {
   "display_name": "Python 3 (ipykernel)",
   "language": "python",
   "name": "python3"
  },
  "language_info": {
   "codemirror_mode": {
    "name": "ipython",
    "version": 3
   },
   "file_extension": ".py",
   "mimetype": "text/x-python",
   "name": "python",
   "nbconvert_exporter": "python",
   "pygments_lexer": "ipython3",
   "version": "3.11.2"
  }
 },
 "nbformat": 4,
 "nbformat_minor": 5
}
