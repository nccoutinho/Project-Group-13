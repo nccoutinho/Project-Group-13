{
 "cells": [
  {
   "cell_type": "code",
   "execution_count": 1,
   "id": "21c1d8bb",
   "metadata": {},
   "outputs": [],
   "source": [
    "import os\n",
    "os.chdir('/Users/prana/Documents/MDS/Project-Group-13')"
   ]
  },
  {
   "cell_type": "code",
   "execution_count": 2,
   "id": "080be618",
   "metadata": {
    "tags": []
   },
   "outputs": [],
   "source": [
    "from projecttracker.utils import file_handler\n",
    "import pandas as pd"
   ]
  },
  {
   "cell_type": "code",
   "execution_count": 14,
   "id": "11c31ff0",
   "metadata": {},
   "outputs": [],
   "source": [
    "class Operations:\n",
    "    def __init__(self):\n",
    "        self.projects = {}\n",
    "        self.tasks = {}\n",
    "        \n",
    "    def view(self):\n",
    "        # Read projects and tasks from JSON files\n",
    "        projects_from_json = file_handler.read_from_json('project.json')\n",
    "        tasks_from_json = file_handler.read_from_json('task.json')\n",
    "        \n",
    "        # Convert data to pandas DataFrame\n",
    "        task_df = pd.DataFrame(tasks_from_json)\n",
    "        project_df = pd.DataFrame(projects_from_json)\n",
    "\n",
    "        # Merge the two DataFrames on 'projectID'\n",
    "        result_df = pd.merge(project_df, task_df, on='projectID', how='left')\n",
    "\n",
    "        # Display the result\n",
    "        return result_df\n",
    "        \n",
    "    def add_proj(self, **kwargs):\n",
    "        new_proj = Project(**kwargs)\n",
    "        #self.projects[new_proj.projectID] = new_proj\n",
    "        print(f\"Project '{new_proj.projectID}' added.\")\n",
    "        file_handler.write_to_json(new_proj, 'project.json', 'a')  # Write to JSON file\n",
    "        return new_proj\n",
    "\n",
    "    def add_task(self, **kwargs):\n",
    "        new_task = Task(**kwargs)\n",
    "        #self.tasks[new_task.taskID] = new_task\n",
    "        projects_from_json = file_handler.read_from_json('project.json')\n",
    "        project_ids = [project['projectID'] for project in projects_from_json]\n",
    "        \n",
    "        if new_task.projectID in project_ids:\n",
    "            print(f\"Task '{new_task.taskID}' added.\")\n",
    "            file_handler.write_to_json(new_task, 'task.json', 'a')  # Write to JSON file\n",
    "            return new_task\n",
    "        else:\n",
    "            print(f\"Project {new_task.projectID} does not exist.\")\n",
    "            return None\n",
    "    \n",
    "    def modify_item(self):\n",
    "        modify_type = input(\"Enter 'project' or 'task' ID to modify: \").upper()\n",
    "        \n",
    "        while True:\n",
    "            # Read data from JSON files\n",
    "            projects_from_json = file_handler.read_from_json('project.json')\n",
    "            tasks_from_json = file_handler.read_from_json('task.json')\n",
    "\n",
    "            # Identify the list and ID based on user input\n",
    "            if modify_type[0] == 'P':\n",
    "                items_list = projects_from_json\n",
    "                item_ids = [project['projectID'] for project in projects_from_json]\n",
    "            elif modify_type[0] == 'T':\n",
    "                items_list = tasks_from_json\n",
    "                item_ids = [task['taskID'] for task in tasks_from_json]\n",
    "            else:\n",
    "                print(\"Invalid input. Please enter correct 'project' or 'task' IDs.\")\n",
    "                break  # Exit the loop if the input is invalid\n",
    "\n",
    "            # Check if the specified ID exists\n",
    "            if modify_type not in item_ids:\n",
    "                print(f\"{modify_type} not found.\")\n",
    "                break  # Exit the loop if the ID is not found\n",
    "\n",
    "            # Find the dictionary with the specified ID\n",
    "            item_index = item_ids.index(modify_type)\n",
    "            item = items_list[item_index]\n",
    "\n",
    "            # Display current attributes\n",
    "            print(f\"Current attributes of {modify_type}:\")\n",
    "            for key, value in item.items():\n",
    "                print(f\"{key}: {value}\")\n",
    "\n",
    "            # Get the attribute to modify\n",
    "            attribute = input(\"Enter the attribute to modify: \")\n",
    "\n",
    "            # Check if the attribute exists\n",
    "            if attribute not in item:\n",
    "                print(f\"Attribute '{attribute}' does not exist in {modify_type}.\")\n",
    "            else:\n",
    "                # Get the new value for the attribute\n",
    "                new_value = input(f\"Enter new value for '{attribute}': \")\n",
    "\n",
    "                # Update the attribute in the dictionary\n",
    "                item[attribute] = new_value\n",
    "\n",
    "                # Write the modified list of dictionaries back to the JSON file\n",
    "                if modify_type[0] == 'P':\n",
    "                    file_handler.delete_all_objects('project.json')\n",
    "                    for project_item in projects_from_json:\n",
    "                        file_handler.write_to_json_dict(project_item, 'project.json')\n",
    "                elif modify_type[0] == 'T':\n",
    "                    file_handler.delete_all_objects('task.json')\n",
    "                    for task_item in tasks_from_json:\n",
    "                        file_handler.write_to_json_dict(task_item, 'task.json')\n",
    "\n",
    "                print(f\"Attribute '{attribute}' updated for {modify_type} '{modify_type}'.\")\n",
    "\n",
    "            if input(f\"Do you want to continue updating {modify_type} (Y/N)?\").upper() != 'Y':\n",
    "                break  # Exit the loop if the user does not want to continue\n",
    "    \n",
    "    def delete_item(self):\n",
    "        projects_from_json = file_handler.read_from_json('project.json')\n",
    "        project_ids = [project['projectID'] for project in projects_from_json]\n",
    "        tasks_from_json = file_handler.read_from_json('task.json')\n",
    "        task_ids = [task['taskID'] for task in tasks_from_json]\n",
    "        \n",
    "        delete_type = input(\"Enter 'project' or 'task' ID to delete: \").upper()\n",
    "        \n",
    "        if delete_type[0] == 'P':\n",
    "            if delete_type in project_ids:\n",
    "                project_list = [project for project in projects_from_json if project['projectID'] != delete_type]\n",
    "                file_handler.delete_all_objects('project.json')\n",
    "                for project_item in project_list:\n",
    "                    file_handler.write_to_json_dict(project_item, 'project.json')\n",
    "                print(f\"Project '{delete_type}' deleted.\")\n",
    "                return delete_type\n",
    "            else:\n",
    "                print(f\"Project '{delete_type}' not found.\")\n",
    "                return None\n",
    "        elif delete_type[0] == 'T':\n",
    "            if delete_type in task_ids:\n",
    "                task_list = [task for task in tasks_from_json if task['taskID'] != delete_type]\n",
    "                file_handler.delete_all_objects('task.json')\n",
    "                for task_item in task_list:\n",
    "                    file_handler.write_to_json_dict(task_item, 'task.json')\n",
    "                print(f\"Task '{delete_type}' deleted.\")\n",
    "                return delete_type\n",
    "            else:\n",
    "                print(f\"Task '{delete_type}' not found.\")\n",
    "                return None\n",
    "        else:\n",
    "            print(\"Invalid input. Please enter 'project' or 'task'.\")\n",
    "            return None\n",
    "    \n",
    "\n",
    "class Project(Operations):\n",
    "    #project_counter = 0\n",
    "    def __init__(self, Name, Priority, Duration, Comments, assignedTo, startDate, Deadline, Owner):\n",
    "        project_id = self.get_next_project_id()\n",
    "        self.projectID = f'P{project_id:04}'\n",
    "        self.projectName = Name\n",
    "        self.projectPriority = Priority\n",
    "        self.projectDuration = Duration\n",
    "        self.projectComments = Comments\n",
    "        self.assignedToProjectTL = assignedTo\n",
    "        self.projectStartDate = startDate \n",
    "        self.projectDeadline = Deadline\n",
    "        self.projectOwner = Owner\n",
    "        self.projectStatus = 'Not Started'\n",
    "    \n",
    "    def get_next_project_id(self):\n",
    "        last_project_id = 0\n",
    "        try:\n",
    "            projects_from_json = file_handler.read_from_json('project.json')\n",
    "        except:\n",
    "            pass\n",
    "        else:\n",
    "            project_ids = [project['projectID'] for project in projects_from_json]\n",
    "            last_inserted_project_id = max(project_ids, key=lambda x: int(x[1:]))\n",
    "            last_project_id = int(last_inserted_project_id[1:])\n",
    "        finally:\n",
    "            last_project_id += 1\n",
    "            return last_project_id\n",
    "    \n",
    "\n",
    "\n",
    "class Task(Project):\n",
    "    #task_counter = 0\n",
    "    def __init__(self, projectID, Name, Priority, Duration, Comments, assignedTo, startDate, Deadline):\n",
    "        self.projectID = projectID\n",
    "        task_id = self.get_next_task_id()\n",
    "        self.taskID = f'T{task_id:04}'\n",
    "        self.taskName = Name\n",
    "        self.taskPriority = Priority\n",
    "        self.taskDuration = Duration\n",
    "        self.taskComments = Comments\n",
    "        self.assignedToTask = assignedTo\n",
    "        self.taskStartDate = startDate\n",
    "        self.taskDeadline = Deadline\n",
    "        self.taskStatus = 'Not Started'\n",
    "    \n",
    "    def get_next_task_id(self):\n",
    "        last_task_id = 0\n",
    "        try:\n",
    "            tasks_from_json = file_handler.read_from_json('task.json')\n",
    "        except:\n",
    "            pass\n",
    "        else:\n",
    "            task_ids = [task['taskID'] for task in tasks_from_json]\n",
    "            last_inserted_task_id = max(task_ids, key=lambda x: int(x[1:]))\n",
    "            last_task_id = int(last_inserted_task_id[1:])\n",
    "        finally:\n",
    "            last_task_id += 1\n",
    "            return last_task_id\n",
    "    \n",
    "    \n",
    "\n"
   ]
  },
  {
   "cell_type": "code",
   "execution_count": 16,
   "id": "5a945d65",
   "metadata": {},
   "outputs": [
    {
     "name": "stdout",
     "output_type": "stream",
     "text": [
      "Enter 'project' or 'task' ID to modify: P0005\n",
      "Current attributes of P0005:\n",
      "projectID: P0005\n",
      "projectName: Project 1\n",
      "projectPriority: High\n",
      "projectDuration: 2 weeks\n",
      "projectComments: Important project\n",
      "assignedToProjectTL: Team Lead 1\n",
      "projectStartDate: 2023-11-11\n",
      "projectDeadline: 2023-11-30\n",
      "projectOwner: Project Owner 1\n",
      "projectStatus: Not Started\n",
      "Enter the attribute to modify: projectName\n",
      "Enter new value for 'projectName': Proj 5\n",
      "Attribute 'projectName' updated for P0005 'P0005'.\n",
      "Do you want to continue updating P0005 (Y/N)?N\n"
     ]
    }
   ],
   "source": [
    "operations = Operations()\n",
    "operations.modify_item()"
   ]
  },
  {
   "cell_type": "code",
   "execution_count": 59,
   "id": "883e78a5",
   "metadata": {},
   "outputs": [
    {
     "name": "stdout",
     "output_type": "stream",
     "text": [
      "Project 'P0006' added.\n",
      "Task 'T0005' added.\n",
      "\n",
      "Projects read from JSON:\n",
      "{'projectID': 'P0001', 'projectName': 'Project 1', 'projectPriority': 'high', 'projectDuration': '5', 'projectComments': 'test', 'assignedToProjectTL': 'Pranav', 'projectStartDate': '2023-11-12', 'projectDeadline': '2023-12-23', 'projectOwner': 'Natalie', 'IsProjectCompleted': 'N'}\n",
      "{'projectID': 'P0002', 'projectName': 'Project 1', 'projectPriority': 'High', 'projectDuration': '2 weeks', 'projectComments': 'Important project', 'assignedToProjectTL': 'Team Lead 1', 'projectStartDate': '2023-11-11', 'projectDeadline': '2023-11-30', 'projectOwner': 'Project Owner 1', 'projectStatus': 'Not Started'}\n",
      "{'projectID': 'P0003', 'projectName': 'Project 1', 'projectPriority': 'High', 'projectDuration': '2 weeks', 'projectComments': 'Important project', 'assignedToProjectTL': 'Team Lead 1', 'projectStartDate': '2023-11-11', 'projectDeadline': '2023-11-30', 'projectOwner': 'Project Owner 1', 'projectStatus': 'Not Started'}\n",
      "{'projectID': 'P0004', 'projectName': 'Project 1', 'projectPriority': 'High', 'projectDuration': '2 weeks', 'projectComments': 'Important project', 'assignedToProjectTL': 'Team Lead 1', 'projectStartDate': '2023-11-11', 'projectDeadline': '2023-11-30', 'projectOwner': 'Project Owner 1', 'projectStatus': 'Not Started'}\n",
      "{'projectID': 'P0005', 'projectName': 'Project 1', 'projectPriority': 'High', 'projectDuration': '2 weeks', 'projectComments': 'Important project', 'assignedToProjectTL': 'Team Lead 1', 'projectStartDate': '2023-11-11', 'projectDeadline': '2023-11-30', 'projectOwner': 'Project Owner 1', 'projectStatus': 'Not Started'}\n",
      "{'projectID': 'P0006', 'projectName': 'Project 1', 'projectPriority': 'High', 'projectDuration': '2 weeks', 'projectComments': 'Important project', 'assignedToProjectTL': 'Team Lead 1', 'projectStartDate': '2023-11-11', 'projectDeadline': '2023-11-30', 'projectOwner': 'Project Owner 1', 'projectStatus': 'Not Started'}\n",
      "\n",
      "Tasks read from JSON:\n",
      "{'projectID': 'P0001', 'taskID': 'T0001', 'taskName': 'Task 1', 'taskPriority': 'Medium', 'taskDuration': '1 week', 'taskComments': 'Urgent task', 'assignedToTask': 'Team Member 1', 'taskStartDate': '2023-11-02', 'taskDeadline': '2023-12-28', 'taskStatus': 'Not Started'}\n",
      "{'projectID': 'P0001', 'taskID': 'T0002', 'taskName': 'Task 1', 'taskPriority': 'Medium', 'taskDuration': '1 week', 'taskComments': 'Urgent task', 'assignedToTask': 'Team Member 1', 'taskStartDate': '2023-11-02', 'taskDeadline': '2023-12-28', 'taskStatus': 'Not Started'}\n",
      "{'projectID': 'P0001', 'taskID': 'T0003', 'taskName': 'Task 1', 'taskPriority': 'Medium', 'taskDuration': '1 week', 'taskComments': 'Urgent task', 'assignedToTask': 'Team Member 1', 'taskStartDate': '2023-11-02', 'taskDeadline': '2023-12-28', 'taskStatus': 'Not Started'}\n",
      "{'projectID': 'P0001', 'taskID': 'T0004', 'taskName': 'Task 1', 'taskPriority': 'Medium', 'taskDuration': '1 week', 'taskComments': 'Urgent task', 'assignedToTask': 'Team Member 1', 'taskStartDate': '2023-11-02', 'taskDeadline': '2023-12-28', 'taskStatus': 'Not Started'}\n",
      "{'projectID': 'P0002', 'taskID': 'T0005', 'taskName': 'Task 1', 'taskPriority': 'Medium', 'taskDuration': '1 week', 'taskComments': 'Urgent task', 'assignedToTask': 'Team Member 1', 'taskStartDate': '2023-11-02', 'taskDeadline': '2023-12-28', 'taskStatus': 'Not Started'}\n"
     ]
    }
   ],
   "source": [
    "operations = Operations()\n",
    "\n",
    "project_data = {\n",
    "    'Name': 'Project 1',\n",
    "    'Priority': 'High',\n",
    "    'Duration': '2 weeks',\n",
    "    'Comments': 'Important project',\n",
    "    'assignedTo': 'Team Lead 1',\n",
    "    'startDate': '2023-11-11',\n",
    "    'Deadline': '2023-11-30',\n",
    "    'Owner': 'Project Owner 1',\n",
    "}\n",
    "operations.add_proj(**project_data)\n",
    "\n",
    "# Add a task\n",
    "task_data = {\n",
    "    'projectID': 'P0002',\n",
    "    'Name': 'Task 1',\n",
    "    'Priority': 'Medium',\n",
    "    'Duration': '1 week',\n",
    "    'Comments': 'Urgent task',\n",
    "    'assignedTo': 'Team Member 1',\n",
    "    'startDate': '2023-11-02',\n",
    "    'Deadline': '2023-12-28',\n",
    "}\n",
    "operations.add_task(**task_data)\n",
    "\n",
    "# Modify a project or task\n",
    "#operations.modify_item()\n",
    "\n",
    "# Delete a project or task\n",
    "#operations.delete_item()\n",
    "\n",
    "# Read projects and tasks from JSON files\n",
    "projects_from_json = file_handler.read_from_json('project.json')\n",
    "tasks_from_json = file_handler.read_from_json('task.json')\n",
    "#tasks_from_json = read_from_json()\n",
    "\n",
    "# Display the read projects and tasks\n",
    "print(\"\\nProjects read from JSON:\")\n",
    "for project_data in projects_from_json:\n",
    "    print(project_data)\n",
    "\n",
    "print(\"\\nTasks read from JSON:\")\n",
    "for task_data in tasks_from_json:\n",
    "    print(task_data)\n",
    "    \n",
    "#operations.delete_item()"
   ]
  },
  {
   "cell_type": "code",
   "execution_count": 17,
   "id": "3c4a97b9",
   "metadata": {},
   "outputs": [
    {
     "data": {
      "text/html": [
       "<div>\n",
       "<style scoped>\n",
       "    .dataframe tbody tr th:only-of-type {\n",
       "        vertical-align: middle;\n",
       "    }\n",
       "\n",
       "    .dataframe tbody tr th {\n",
       "        vertical-align: top;\n",
       "    }\n",
       "\n",
       "    .dataframe thead th {\n",
       "        text-align: right;\n",
       "    }\n",
       "</style>\n",
       "<table border=\"1\" class=\"dataframe\">\n",
       "  <thead>\n",
       "    <tr style=\"text-align: right;\">\n",
       "      <th></th>\n",
       "      <th>projectID</th>\n",
       "      <th>projectName</th>\n",
       "      <th>projectPriority</th>\n",
       "      <th>projectDuration</th>\n",
       "      <th>projectComments</th>\n",
       "      <th>assignedToProjectTL</th>\n",
       "      <th>projectStartDate</th>\n",
       "      <th>projectDeadline</th>\n",
       "      <th>projectOwner</th>\n",
       "      <th>projectStatus</th>\n",
       "      <th>taskID</th>\n",
       "      <th>taskName</th>\n",
       "      <th>taskPriority</th>\n",
       "      <th>taskDuration</th>\n",
       "      <th>taskComments</th>\n",
       "      <th>assignedToTask</th>\n",
       "      <th>taskStartDate</th>\n",
       "      <th>taskDeadline</th>\n",
       "      <th>taskStatus</th>\n",
       "    </tr>\n",
       "  </thead>\n",
       "  <tbody>\n",
       "    <tr>\n",
       "      <th>0</th>\n",
       "      <td>P0002</td>\n",
       "      <td>Project 1</td>\n",
       "      <td>High</td>\n",
       "      <td>2 weeks</td>\n",
       "      <td>Important project</td>\n",
       "      <td>Team Lead 1</td>\n",
       "      <td>2023-11-11</td>\n",
       "      <td>2023-11-30</td>\n",
       "      <td>Project Owner 1</td>\n",
       "      <td>Not Started</td>\n",
       "      <td>NaN</td>\n",
       "      <td>NaN</td>\n",
       "      <td>NaN</td>\n",
       "      <td>NaN</td>\n",
       "      <td>NaN</td>\n",
       "      <td>NaN</td>\n",
       "      <td>NaN</td>\n",
       "      <td>NaN</td>\n",
       "      <td>NaN</td>\n",
       "    </tr>\n",
       "    <tr>\n",
       "      <th>1</th>\n",
       "      <td>P0004</td>\n",
       "      <td>Project 1</td>\n",
       "      <td>High</td>\n",
       "      <td>2 weeks</td>\n",
       "      <td>Important project</td>\n",
       "      <td>Team Lead 1</td>\n",
       "      <td>2023-11-11</td>\n",
       "      <td>2023-11-30</td>\n",
       "      <td>Project Owner 1</td>\n",
       "      <td>Not Started</td>\n",
       "      <td>NaN</td>\n",
       "      <td>NaN</td>\n",
       "      <td>NaN</td>\n",
       "      <td>NaN</td>\n",
       "      <td>NaN</td>\n",
       "      <td>NaN</td>\n",
       "      <td>NaN</td>\n",
       "      <td>NaN</td>\n",
       "      <td>NaN</td>\n",
       "    </tr>\n",
       "    <tr>\n",
       "      <th>2</th>\n",
       "      <td>P0005</td>\n",
       "      <td>Project 1</td>\n",
       "      <td>High</td>\n",
       "      <td>2 weeks</td>\n",
       "      <td>Important project</td>\n",
       "      <td>Team Lead 1</td>\n",
       "      <td>2023-11-11</td>\n",
       "      <td>2023-11-30</td>\n",
       "      <td>Project Owner 1</td>\n",
       "      <td>Not Started</td>\n",
       "      <td>NaN</td>\n",
       "      <td>NaN</td>\n",
       "      <td>NaN</td>\n",
       "      <td>NaN</td>\n",
       "      <td>NaN</td>\n",
       "      <td>NaN</td>\n",
       "      <td>NaN</td>\n",
       "      <td>NaN</td>\n",
       "      <td>NaN</td>\n",
       "    </tr>\n",
       "    <tr>\n",
       "      <th>3</th>\n",
       "      <td>P0006</td>\n",
       "      <td>Project 1</td>\n",
       "      <td>High</td>\n",
       "      <td>2 weeks</td>\n",
       "      <td>Important project</td>\n",
       "      <td>Team Lead 1</td>\n",
       "      <td>2023-11-11</td>\n",
       "      <td>2023-11-30</td>\n",
       "      <td>Project Owner 1</td>\n",
       "      <td>Not Started</td>\n",
       "      <td>NaN</td>\n",
       "      <td>NaN</td>\n",
       "      <td>NaN</td>\n",
       "      <td>NaN</td>\n",
       "      <td>NaN</td>\n",
       "      <td>NaN</td>\n",
       "      <td>NaN</td>\n",
       "      <td>NaN</td>\n",
       "      <td>NaN</td>\n",
       "    </tr>\n",
       "    <tr>\n",
       "      <th>4</th>\n",
       "      <td>P0007</td>\n",
       "      <td>Project 1</td>\n",
       "      <td>High</td>\n",
       "      <td>2 weeks</td>\n",
       "      <td>Important project</td>\n",
       "      <td>Team Lead 1</td>\n",
       "      <td>2023-11-11</td>\n",
       "      <td>2023-11-30</td>\n",
       "      <td>Project Owner 1</td>\n",
       "      <td>Not Started</td>\n",
       "      <td>NaN</td>\n",
       "      <td>NaN</td>\n",
       "      <td>NaN</td>\n",
       "      <td>NaN</td>\n",
       "      <td>NaN</td>\n",
       "      <td>NaN</td>\n",
       "      <td>NaN</td>\n",
       "      <td>NaN</td>\n",
       "      <td>NaN</td>\n",
       "    </tr>\n",
       "    <tr>\n",
       "      <th>5</th>\n",
       "      <td>P0008</td>\n",
       "      <td>Project 1</td>\n",
       "      <td>High</td>\n",
       "      <td>2 weeks</td>\n",
       "      <td>Important project</td>\n",
       "      <td>Team Lead 1</td>\n",
       "      <td>2023-11-11</td>\n",
       "      <td>2023-11-30</td>\n",
       "      <td>Project Owner 1</td>\n",
       "      <td>Not Started</td>\n",
       "      <td>NaN</td>\n",
       "      <td>NaN</td>\n",
       "      <td>NaN</td>\n",
       "      <td>NaN</td>\n",
       "      <td>NaN</td>\n",
       "      <td>NaN</td>\n",
       "      <td>NaN</td>\n",
       "      <td>NaN</td>\n",
       "      <td>NaN</td>\n",
       "    </tr>\n",
       "    <tr>\n",
       "      <th>6</th>\n",
       "      <td>P0009</td>\n",
       "      <td>Project 1</td>\n",
       "      <td>High</td>\n",
       "      <td>2 weeks</td>\n",
       "      <td>Important project</td>\n",
       "      <td>Team Lead 1</td>\n",
       "      <td>2023-11-11</td>\n",
       "      <td>2023-11-30</td>\n",
       "      <td>Project Owner 1</td>\n",
       "      <td>Not Started</td>\n",
       "      <td>NaN</td>\n",
       "      <td>NaN</td>\n",
       "      <td>NaN</td>\n",
       "      <td>NaN</td>\n",
       "      <td>NaN</td>\n",
       "      <td>NaN</td>\n",
       "      <td>NaN</td>\n",
       "      <td>NaN</td>\n",
       "      <td>NaN</td>\n",
       "    </tr>\n",
       "    <tr>\n",
       "      <th>7</th>\n",
       "      <td>P0010</td>\n",
       "      <td>Project 1</td>\n",
       "      <td>High</td>\n",
       "      <td>2 weeks</td>\n",
       "      <td>Important project</td>\n",
       "      <td>Team Lead 1</td>\n",
       "      <td>2023-11-11</td>\n",
       "      <td>2023-11-30</td>\n",
       "      <td>Project Owner 1</td>\n",
       "      <td>Not Started</td>\n",
       "      <td>NaN</td>\n",
       "      <td>NaN</td>\n",
       "      <td>NaN</td>\n",
       "      <td>NaN</td>\n",
       "      <td>NaN</td>\n",
       "      <td>NaN</td>\n",
       "      <td>NaN</td>\n",
       "      <td>NaN</td>\n",
       "      <td>NaN</td>\n",
       "    </tr>\n",
       "    <tr>\n",
       "      <th>8</th>\n",
       "      <td>P0011</td>\n",
       "      <td>Project 1</td>\n",
       "      <td>High</td>\n",
       "      <td>2 weeks</td>\n",
       "      <td>Important project</td>\n",
       "      <td>Team Lead 1</td>\n",
       "      <td>2023-11-11</td>\n",
       "      <td>2023-11-30</td>\n",
       "      <td>Project Owner 1</td>\n",
       "      <td>Not Started</td>\n",
       "      <td>NaN</td>\n",
       "      <td>NaN</td>\n",
       "      <td>NaN</td>\n",
       "      <td>NaN</td>\n",
       "      <td>NaN</td>\n",
       "      <td>NaN</td>\n",
       "      <td>NaN</td>\n",
       "      <td>NaN</td>\n",
       "      <td>NaN</td>\n",
       "    </tr>\n",
       "    <tr>\n",
       "      <th>9</th>\n",
       "      <td>P0012</td>\n",
       "      <td>Project 1</td>\n",
       "      <td>High</td>\n",
       "      <td>2 weeks</td>\n",
       "      <td>Important project</td>\n",
       "      <td>Team Lead 1</td>\n",
       "      <td>2023-11-11</td>\n",
       "      <td>2023-11-30</td>\n",
       "      <td>Project Owner 1</td>\n",
       "      <td>Not Started</td>\n",
       "      <td>NaN</td>\n",
       "      <td>NaN</td>\n",
       "      <td>NaN</td>\n",
       "      <td>NaN</td>\n",
       "      <td>NaN</td>\n",
       "      <td>NaN</td>\n",
       "      <td>NaN</td>\n",
       "      <td>NaN</td>\n",
       "      <td>NaN</td>\n",
       "    </tr>\n",
       "  </tbody>\n",
       "</table>\n",
       "</div>"
      ],
      "text/plain": [
       "  projectID projectName projectPriority projectDuration    projectComments  \\\n",
       "0     P0002   Project 1            High         2 weeks  Important project   \n",
       "1     P0004   Project 1            High         2 weeks  Important project   \n",
       "2     P0005   Project 1            High         2 weeks  Important project   \n",
       "3     P0006   Project 1            High         2 weeks  Important project   \n",
       "4     P0007   Project 1            High         2 weeks  Important project   \n",
       "5     P0008   Project 1            High         2 weeks  Important project   \n",
       "6     P0009   Project 1            High         2 weeks  Important project   \n",
       "7     P0010   Project 1            High         2 weeks  Important project   \n",
       "8     P0011   Project 1            High         2 weeks  Important project   \n",
       "9     P0012   Project 1            High         2 weeks  Important project   \n",
       "\n",
       "  assignedToProjectTL projectStartDate projectDeadline     projectOwner  \\\n",
       "0         Team Lead 1       2023-11-11      2023-11-30  Project Owner 1   \n",
       "1         Team Lead 1       2023-11-11      2023-11-30  Project Owner 1   \n",
       "2         Team Lead 1       2023-11-11      2023-11-30  Project Owner 1   \n",
       "3         Team Lead 1       2023-11-11      2023-11-30  Project Owner 1   \n",
       "4         Team Lead 1       2023-11-11      2023-11-30  Project Owner 1   \n",
       "5         Team Lead 1       2023-11-11      2023-11-30  Project Owner 1   \n",
       "6         Team Lead 1       2023-11-11      2023-11-30  Project Owner 1   \n",
       "7         Team Lead 1       2023-11-11      2023-11-30  Project Owner 1   \n",
       "8         Team Lead 1       2023-11-11      2023-11-30  Project Owner 1   \n",
       "9         Team Lead 1       2023-11-11      2023-11-30  Project Owner 1   \n",
       "\n",
       "  projectStatus taskID taskName taskPriority taskDuration taskComments  \\\n",
       "0   Not Started    NaN      NaN          NaN          NaN          NaN   \n",
       "1   Not Started    NaN      NaN          NaN          NaN          NaN   \n",
       "2   Not Started    NaN      NaN          NaN          NaN          NaN   \n",
       "3   Not Started    NaN      NaN          NaN          NaN          NaN   \n",
       "4   Not Started    NaN      NaN          NaN          NaN          NaN   \n",
       "5   Not Started    NaN      NaN          NaN          NaN          NaN   \n",
       "6   Not Started    NaN      NaN          NaN          NaN          NaN   \n",
       "7   Not Started    NaN      NaN          NaN          NaN          NaN   \n",
       "8   Not Started    NaN      NaN          NaN          NaN          NaN   \n",
       "9   Not Started    NaN      NaN          NaN          NaN          NaN   \n",
       "\n",
       "  assignedToTask taskStartDate taskDeadline taskStatus  \n",
       "0            NaN           NaN          NaN        NaN  \n",
       "1            NaN           NaN          NaN        NaN  \n",
       "2            NaN           NaN          NaN        NaN  \n",
       "3            NaN           NaN          NaN        NaN  \n",
       "4            NaN           NaN          NaN        NaN  \n",
       "5            NaN           NaN          NaN        NaN  \n",
       "6            NaN           NaN          NaN        NaN  \n",
       "7            NaN           NaN          NaN        NaN  \n",
       "8            NaN           NaN          NaN        NaN  \n",
       "9            NaN           NaN          NaN        NaN  "
      ]
     },
     "execution_count": 17,
     "metadata": {},
     "output_type": "execute_result"
    }
   ],
   "source": [
    "df = operations.view()\n",
    "df.head(10)"
   ]
  },
  {
   "cell_type": "code",
   "execution_count": null,
   "id": "c0068224",
   "metadata": {},
   "outputs": [],
   "source": [
    "projects_from_json"
   ]
  },
  {
   "cell_type": "code",
   "execution_count": null,
   "id": "1d548e90",
   "metadata": {},
   "outputs": [],
   "source": [
    "project_ids = [project['projectID'] for project in projects_from_json]\n",
    "\n",
    "    # Find the last inserted projectID\n",
    "last_inserted_project_id = max(project_ids, key=lambda x: int(x[1:]))"
   ]
  },
  {
   "cell_type": "code",
   "execution_count": null,
   "id": "673ee687",
   "metadata": {},
   "outputs": [],
   "source": [
    "int(last_inserted_project_id[1:])"
   ]
  },
  {
   "cell_type": "code",
   "execution_count": null,
   "id": "327d5898",
   "metadata": {},
   "outputs": [],
   "source": [
    "import pandas as pd\n",
    "# Convert data to pandas DataFrame\n",
    "task_df = pd.DataFrame(tasks_from_json)\n",
    "project_df = pd.DataFrame(projects_from_json)\n",
    "\n",
    "# Merge the two DataFrames on 'projectID'\n",
    "result_df = pd.merge(project_df, task_df, on='projectID', how='left')\n",
    "\n",
    "# Display the result\n",
    "result_df.head()"
   ]
  },
  {
   "cell_type": "code",
   "execution_count": null,
   "id": "0853998d",
   "metadata": {},
   "outputs": [],
   "source": [
    "project_id_input = input(\"Enter the Project ID: \")\n"
   ]
  },
  {
   "cell_type": "code",
   "execution_count": null,
   "id": "9f028708",
   "metadata": {},
   "outputs": [],
   "source": [
    "data = []\n",
    "tasks_from_json = file_handler.read_from_json('task.json')\n",
    "task_list = [task for task in tasks_from_json if task['projectID'] == project_id_input]\n",
    "\n",
    "for x in task_list:\n",
    "    data.append(dict(Task=x['taskName'], Start=x['taskStartDate'], Finish=x['taskDeadline'], Priority=x['taskPriority']))\n",
    "\n",
    "data"
   ]
  },
  {
   "cell_type": "code",
   "execution_count": null,
   "id": "d36171ea",
   "metadata": {},
   "outputs": [],
   "source": [
    "\n",
    "# Create a Gantt chart\n",
    "fig = px.timeline(data, x_start=\"Start\", x_end=\"Finish\", y=\"Task\", hover_data={\"Priority\": True}, labels={\"Task\": f\"Project: {project_id_input}\"})\n",
    "\n",
    "# Current date\n",
    "current_date = datetime.datetime.now().strftime('%Y-%m-%d')\n",
    "\n",
    "# Add a vertical line for the current date\n",
    "fig.update_layout(shapes=[\n",
    "    dict(\n",
    "        type=\"line\",\n",
    "        x0=current_date,\n",
    "        x1=current_date,\n",
    "        y0=0,\n",
    "        y1=1,\n",
    "        yref=\"paper\",\n",
    "        line=dict(color=\"black\", width=2),\n",
    "    )\n",
    "])\n",
    "\n",
    "# Show the Gantt chart\n",
    "fig.show()"
   ]
  },
  {
   "cell_type": "code",
   "execution_count": null,
   "id": "dd5390e1",
   "metadata": {},
   "outputs": [],
   "source": [
    "data = []\n",
    "projects_from_json = file_handler.read_from_json('project.json')\n",
    "project_list = [project for project in projects_from_json]\n",
    "for x in project_list:\n",
    "        data.append(dict(Project=x[\"projectName\"], Start=x[\"projectStartDate\"], Finish=x[\"projectDeadline\"], Priority=x[\"projectPriority\"]))\n",
    "\n",
    "\n",
    "# Create a Gantt chart\n",
    "fig = px.timeline(data, x_start=\"Start\", x_end=\"Finish\", y=\"Project\", hover_data={\"Priority\": True})\n",
    "\n",
    "\n",
    "\n",
    "# Show the Gantt chart\n",
    "fig.show()"
   ]
  },
  {
   "cell_type": "code",
   "execution_count": null,
   "id": "84a81e44",
   "metadata": {},
   "outputs": [],
   "source": [
    "data = []\n",
    "tasks_from_json = file_handler.read_from_json('task.json')\n",
    "task_list = [task for task in tasks_from_json if task['projectID'] == project_id_input]\n",
    "\n",
    "for x in task_list:\n",
    "    data.append(dict(Task=x['taskName'], Status=x['taskStatus']))\n",
    "\n",
    "data"
   ]
  },
  {
   "cell_type": "code",
   "execution_count": null,
   "id": "687bd7ad",
   "metadata": {},
   "outputs": [],
   "source": [
    "import plotly.express as px\n",
    "# Create Pie Chart for Task Status with a lighter red for 'Completed' status\n",
    "fig = px.pie(data, names='Status', title='Task Status Distribution',\n",
    "             color_discrete_map={'Completed': 'lightcoral', 'In Progress': 'blue', 'Not Started': 'green'})\n",
    "\n",
    "# Show the Pie Chart\n",
    "fig.show()"
   ]
  },
  {
   "cell_type": "code",
   "execution_count": 23,
   "id": "23c031e4",
   "metadata": {},
   "outputs": [],
   "source": [
    "def write_list_of_dicts_to_csv(data, file_path):\n",
    "    data.to_csv(file_path, index=False)"
   ]
  },
  {
   "cell_type": "code",
   "execution_count": 25,
   "id": "8941227a",
   "metadata": {},
   "outputs": [],
   "source": [
    "write_list_of_dicts_to_csv(df, '/Users/prana/Documents/df.csv')"
   ]
  },
  {
   "cell_type": "code",
   "execution_count": 61,
   "id": "dc9fb909",
   "metadata": {},
   "outputs": [
    {
     "data": {
      "application/vnd.plotly.v1+json": {
       "config": {
        "plotlyServerURL": "https://plot.ly"
       },
       "data": [
        {
         "alignmentgroup": "True",
         "hovertemplate": "projectID=%{x}<br>Number of Tasks=%{y}<extra></extra>",
         "legendgroup": "",
         "marker": {
          "color": "#636efa",
          "pattern": {
           "shape": ""
          }
         },
         "name": "",
         "offsetgroup": "",
         "orientation": "v",
         "showlegend": false,
         "textposition": "auto",
         "type": "bar",
         "x": [
          "P0001",
          "P0002"
         ],
         "xaxis": "x",
         "y": [
          4,
          1
         ],
         "yaxis": "y"
        }
       ],
       "layout": {
        "barmode": "relative",
        "legend": {
         "tracegroupgap": 0
        },
        "showlegend": false,
        "template": {
         "data": {
          "bar": [
           {
            "error_x": {
             "color": "#2a3f5f"
            },
            "error_y": {
             "color": "#2a3f5f"
            },
            "marker": {
             "line": {
              "color": "#E5ECF6",
              "width": 0.5
             },
             "pattern": {
              "fillmode": "overlay",
              "size": 10,
              "solidity": 0.2
             }
            },
            "type": "bar"
           }
          ],
          "barpolar": [
           {
            "marker": {
             "line": {
              "color": "#E5ECF6",
              "width": 0.5
             },
             "pattern": {
              "fillmode": "overlay",
              "size": 10,
              "solidity": 0.2
             }
            },
            "type": "barpolar"
           }
          ],
          "carpet": [
           {
            "aaxis": {
             "endlinecolor": "#2a3f5f",
             "gridcolor": "white",
             "linecolor": "white",
             "minorgridcolor": "white",
             "startlinecolor": "#2a3f5f"
            },
            "baxis": {
             "endlinecolor": "#2a3f5f",
             "gridcolor": "white",
             "linecolor": "white",
             "minorgridcolor": "white",
             "startlinecolor": "#2a3f5f"
            },
            "type": "carpet"
           }
          ],
          "choropleth": [
           {
            "colorbar": {
             "outlinewidth": 0,
             "ticks": ""
            },
            "type": "choropleth"
           }
          ],
          "contour": [
           {
            "colorbar": {
             "outlinewidth": 0,
             "ticks": ""
            },
            "colorscale": [
             [
              0,
              "#0d0887"
             ],
             [
              0.1111111111111111,
              "#46039f"
             ],
             [
              0.2222222222222222,
              "#7201a8"
             ],
             [
              0.3333333333333333,
              "#9c179e"
             ],
             [
              0.4444444444444444,
              "#bd3786"
             ],
             [
              0.5555555555555556,
              "#d8576b"
             ],
             [
              0.6666666666666666,
              "#ed7953"
             ],
             [
              0.7777777777777778,
              "#fb9f3a"
             ],
             [
              0.8888888888888888,
              "#fdca26"
             ],
             [
              1,
              "#f0f921"
             ]
            ],
            "type": "contour"
           }
          ],
          "contourcarpet": [
           {
            "colorbar": {
             "outlinewidth": 0,
             "ticks": ""
            },
            "type": "contourcarpet"
           }
          ],
          "heatmap": [
           {
            "colorbar": {
             "outlinewidth": 0,
             "ticks": ""
            },
            "colorscale": [
             [
              0,
              "#0d0887"
             ],
             [
              0.1111111111111111,
              "#46039f"
             ],
             [
              0.2222222222222222,
              "#7201a8"
             ],
             [
              0.3333333333333333,
              "#9c179e"
             ],
             [
              0.4444444444444444,
              "#bd3786"
             ],
             [
              0.5555555555555556,
              "#d8576b"
             ],
             [
              0.6666666666666666,
              "#ed7953"
             ],
             [
              0.7777777777777778,
              "#fb9f3a"
             ],
             [
              0.8888888888888888,
              "#fdca26"
             ],
             [
              1,
              "#f0f921"
             ]
            ],
            "type": "heatmap"
           }
          ],
          "heatmapgl": [
           {
            "colorbar": {
             "outlinewidth": 0,
             "ticks": ""
            },
            "colorscale": [
             [
              0,
              "#0d0887"
             ],
             [
              0.1111111111111111,
              "#46039f"
             ],
             [
              0.2222222222222222,
              "#7201a8"
             ],
             [
              0.3333333333333333,
              "#9c179e"
             ],
             [
              0.4444444444444444,
              "#bd3786"
             ],
             [
              0.5555555555555556,
              "#d8576b"
             ],
             [
              0.6666666666666666,
              "#ed7953"
             ],
             [
              0.7777777777777778,
              "#fb9f3a"
             ],
             [
              0.8888888888888888,
              "#fdca26"
             ],
             [
              1,
              "#f0f921"
             ]
            ],
            "type": "heatmapgl"
           }
          ],
          "histogram": [
           {
            "marker": {
             "pattern": {
              "fillmode": "overlay",
              "size": 10,
              "solidity": 0.2
             }
            },
            "type": "histogram"
           }
          ],
          "histogram2d": [
           {
            "colorbar": {
             "outlinewidth": 0,
             "ticks": ""
            },
            "colorscale": [
             [
              0,
              "#0d0887"
             ],
             [
              0.1111111111111111,
              "#46039f"
             ],
             [
              0.2222222222222222,
              "#7201a8"
             ],
             [
              0.3333333333333333,
              "#9c179e"
             ],
             [
              0.4444444444444444,
              "#bd3786"
             ],
             [
              0.5555555555555556,
              "#d8576b"
             ],
             [
              0.6666666666666666,
              "#ed7953"
             ],
             [
              0.7777777777777778,
              "#fb9f3a"
             ],
             [
              0.8888888888888888,
              "#fdca26"
             ],
             [
              1,
              "#f0f921"
             ]
            ],
            "type": "histogram2d"
           }
          ],
          "histogram2dcontour": [
           {
            "colorbar": {
             "outlinewidth": 0,
             "ticks": ""
            },
            "colorscale": [
             [
              0,
              "#0d0887"
             ],
             [
              0.1111111111111111,
              "#46039f"
             ],
             [
              0.2222222222222222,
              "#7201a8"
             ],
             [
              0.3333333333333333,
              "#9c179e"
             ],
             [
              0.4444444444444444,
              "#bd3786"
             ],
             [
              0.5555555555555556,
              "#d8576b"
             ],
             [
              0.6666666666666666,
              "#ed7953"
             ],
             [
              0.7777777777777778,
              "#fb9f3a"
             ],
             [
              0.8888888888888888,
              "#fdca26"
             ],
             [
              1,
              "#f0f921"
             ]
            ],
            "type": "histogram2dcontour"
           }
          ],
          "mesh3d": [
           {
            "colorbar": {
             "outlinewidth": 0,
             "ticks": ""
            },
            "type": "mesh3d"
           }
          ],
          "parcoords": [
           {
            "line": {
             "colorbar": {
              "outlinewidth": 0,
              "ticks": ""
             }
            },
            "type": "parcoords"
           }
          ],
          "pie": [
           {
            "automargin": true,
            "type": "pie"
           }
          ],
          "scatter": [
           {
            "fillpattern": {
             "fillmode": "overlay",
             "size": 10,
             "solidity": 0.2
            },
            "type": "scatter"
           }
          ],
          "scatter3d": [
           {
            "line": {
             "colorbar": {
              "outlinewidth": 0,
              "ticks": ""
             }
            },
            "marker": {
             "colorbar": {
              "outlinewidth": 0,
              "ticks": ""
             }
            },
            "type": "scatter3d"
           }
          ],
          "scattercarpet": [
           {
            "marker": {
             "colorbar": {
              "outlinewidth": 0,
              "ticks": ""
             }
            },
            "type": "scattercarpet"
           }
          ],
          "scattergeo": [
           {
            "marker": {
             "colorbar": {
              "outlinewidth": 0,
              "ticks": ""
             }
            },
            "type": "scattergeo"
           }
          ],
          "scattergl": [
           {
            "marker": {
             "colorbar": {
              "outlinewidth": 0,
              "ticks": ""
             }
            },
            "type": "scattergl"
           }
          ],
          "scattermapbox": [
           {
            "marker": {
             "colorbar": {
              "outlinewidth": 0,
              "ticks": ""
             }
            },
            "type": "scattermapbox"
           }
          ],
          "scatterpolar": [
           {
            "marker": {
             "colorbar": {
              "outlinewidth": 0,
              "ticks": ""
             }
            },
            "type": "scatterpolar"
           }
          ],
          "scatterpolargl": [
           {
            "marker": {
             "colorbar": {
              "outlinewidth": 0,
              "ticks": ""
             }
            },
            "type": "scatterpolargl"
           }
          ],
          "scatterternary": [
           {
            "marker": {
             "colorbar": {
              "outlinewidth": 0,
              "ticks": ""
             }
            },
            "type": "scatterternary"
           }
          ],
          "surface": [
           {
            "colorbar": {
             "outlinewidth": 0,
             "ticks": ""
            },
            "colorscale": [
             [
              0,
              "#0d0887"
             ],
             [
              0.1111111111111111,
              "#46039f"
             ],
             [
              0.2222222222222222,
              "#7201a8"
             ],
             [
              0.3333333333333333,
              "#9c179e"
             ],
             [
              0.4444444444444444,
              "#bd3786"
             ],
             [
              0.5555555555555556,
              "#d8576b"
             ],
             [
              0.6666666666666666,
              "#ed7953"
             ],
             [
              0.7777777777777778,
              "#fb9f3a"
             ],
             [
              0.8888888888888888,
              "#fdca26"
             ],
             [
              1,
              "#f0f921"
             ]
            ],
            "type": "surface"
           }
          ],
          "table": [
           {
            "cells": {
             "fill": {
              "color": "#EBF0F8"
             },
             "line": {
              "color": "white"
             }
            },
            "header": {
             "fill": {
              "color": "#C8D4E3"
             },
             "line": {
              "color": "white"
             }
            },
            "type": "table"
           }
          ]
         },
         "layout": {
          "annotationdefaults": {
           "arrowcolor": "#2a3f5f",
           "arrowhead": 0,
           "arrowwidth": 1
          },
          "autotypenumbers": "strict",
          "coloraxis": {
           "colorbar": {
            "outlinewidth": 0,
            "ticks": ""
           }
          },
          "colorscale": {
           "diverging": [
            [
             0,
             "#8e0152"
            ],
            [
             0.1,
             "#c51b7d"
            ],
            [
             0.2,
             "#de77ae"
            ],
            [
             0.3,
             "#f1b6da"
            ],
            [
             0.4,
             "#fde0ef"
            ],
            [
             0.5,
             "#f7f7f7"
            ],
            [
             0.6,
             "#e6f5d0"
            ],
            [
             0.7,
             "#b8e186"
            ],
            [
             0.8,
             "#7fbc41"
            ],
            [
             0.9,
             "#4d9221"
            ],
            [
             1,
             "#276419"
            ]
           ],
           "sequential": [
            [
             0,
             "#0d0887"
            ],
            [
             0.1111111111111111,
             "#46039f"
            ],
            [
             0.2222222222222222,
             "#7201a8"
            ],
            [
             0.3333333333333333,
             "#9c179e"
            ],
            [
             0.4444444444444444,
             "#bd3786"
            ],
            [
             0.5555555555555556,
             "#d8576b"
            ],
            [
             0.6666666666666666,
             "#ed7953"
            ],
            [
             0.7777777777777778,
             "#fb9f3a"
            ],
            [
             0.8888888888888888,
             "#fdca26"
            ],
            [
             1,
             "#f0f921"
            ]
           ],
           "sequentialminus": [
            [
             0,
             "#0d0887"
            ],
            [
             0.1111111111111111,
             "#46039f"
            ],
            [
             0.2222222222222222,
             "#7201a8"
            ],
            [
             0.3333333333333333,
             "#9c179e"
            ],
            [
             0.4444444444444444,
             "#bd3786"
            ],
            [
             0.5555555555555556,
             "#d8576b"
            ],
            [
             0.6666666666666666,
             "#ed7953"
            ],
            [
             0.7777777777777778,
             "#fb9f3a"
            ],
            [
             0.8888888888888888,
             "#fdca26"
            ],
            [
             1,
             "#f0f921"
            ]
           ]
          },
          "colorway": [
           "#636efa",
           "#EF553B",
           "#00cc96",
           "#ab63fa",
           "#FFA15A",
           "#19d3f3",
           "#FF6692",
           "#B6E880",
           "#FF97FF",
           "#FECB52"
          ],
          "font": {
           "color": "#2a3f5f"
          },
          "geo": {
           "bgcolor": "white",
           "lakecolor": "white",
           "landcolor": "#E5ECF6",
           "showlakes": true,
           "showland": true,
           "subunitcolor": "white"
          },
          "hoverlabel": {
           "align": "left"
          },
          "hovermode": "closest",
          "mapbox": {
           "style": "light"
          },
          "paper_bgcolor": "white",
          "plot_bgcolor": "#E5ECF6",
          "polar": {
           "angularaxis": {
            "gridcolor": "white",
            "linecolor": "white",
            "ticks": ""
           },
           "bgcolor": "#E5ECF6",
           "radialaxis": {
            "gridcolor": "white",
            "linecolor": "white",
            "ticks": ""
           }
          },
          "scene": {
           "xaxis": {
            "backgroundcolor": "#E5ECF6",
            "gridcolor": "white",
            "gridwidth": 2,
            "linecolor": "white",
            "showbackground": true,
            "ticks": "",
            "zerolinecolor": "white"
           },
           "yaxis": {
            "backgroundcolor": "#E5ECF6",
            "gridcolor": "white",
            "gridwidth": 2,
            "linecolor": "white",
            "showbackground": true,
            "ticks": "",
            "zerolinecolor": "white"
           },
           "zaxis": {
            "backgroundcolor": "#E5ECF6",
            "gridcolor": "white",
            "gridwidth": 2,
            "linecolor": "white",
            "showbackground": true,
            "ticks": "",
            "zerolinecolor": "white"
           }
          },
          "shapedefaults": {
           "line": {
            "color": "#2a3f5f"
           }
          },
          "ternary": {
           "aaxis": {
            "gridcolor": "white",
            "linecolor": "white",
            "ticks": ""
           },
           "baxis": {
            "gridcolor": "white",
            "linecolor": "white",
            "ticks": ""
           },
           "bgcolor": "#E5ECF6",
           "caxis": {
            "gridcolor": "white",
            "linecolor": "white",
            "ticks": ""
           }
          },
          "title": {
           "x": 0.05
          },
          "xaxis": {
           "automargin": true,
           "gridcolor": "white",
           "linecolor": "white",
           "ticks": "",
           "title": {
            "standoff": 15
           },
           "zerolinecolor": "white",
           "zerolinewidth": 2
          },
          "yaxis": {
           "automargin": true,
           "gridcolor": "white",
           "linecolor": "white",
           "ticks": "",
           "title": {
            "standoff": 15
           },
           "zerolinecolor": "white",
           "zerolinewidth": 2
          }
         }
        },
        "title": {
         "text": "Number of Tasks in Each Project"
        },
        "xaxis": {
         "anchor": "y",
         "domain": [
          0,
          1
         ],
         "title": {
          "text": "Project"
         }
        },
        "yaxis": {
         "anchor": "x",
         "domain": [
          0,
          1
         ],
         "title": {
          "text": "Number of Tasks"
         }
        }
       }
      },
      "text/html": [
       "<div>                            <div id=\"ecca4571-7dda-4b27-983f-15d7c6412955\" class=\"plotly-graph-div\" style=\"height:525px; width:100%;\"></div>            <script type=\"text/javascript\">                require([\"plotly\"], function(Plotly) {                    window.PLOTLYENV=window.PLOTLYENV || {};                                    if (document.getElementById(\"ecca4571-7dda-4b27-983f-15d7c6412955\")) {                    Plotly.newPlot(                        \"ecca4571-7dda-4b27-983f-15d7c6412955\",                        [{\"alignmentgroup\":\"True\",\"hovertemplate\":\"projectID=%{x}\\u003cbr\\u003eNumber of Tasks=%{y}\\u003cextra\\u003e\\u003c\\u002fextra\\u003e\",\"legendgroup\":\"\",\"marker\":{\"color\":\"#636efa\",\"pattern\":{\"shape\":\"\"}},\"name\":\"\",\"offsetgroup\":\"\",\"orientation\":\"v\",\"showlegend\":false,\"textposition\":\"auto\",\"x\":[\"P0001\",\"P0002\"],\"xaxis\":\"x\",\"y\":[4,1],\"yaxis\":\"y\",\"type\":\"bar\"}],                        {\"template\":{\"data\":{\"histogram2dcontour\":[{\"type\":\"histogram2dcontour\",\"colorbar\":{\"outlinewidth\":0,\"ticks\":\"\"},\"colorscale\":[[0.0,\"#0d0887\"],[0.1111111111111111,\"#46039f\"],[0.2222222222222222,\"#7201a8\"],[0.3333333333333333,\"#9c179e\"],[0.4444444444444444,\"#bd3786\"],[0.5555555555555556,\"#d8576b\"],[0.6666666666666666,\"#ed7953\"],[0.7777777777777778,\"#fb9f3a\"],[0.8888888888888888,\"#fdca26\"],[1.0,\"#f0f921\"]]}],\"choropleth\":[{\"type\":\"choropleth\",\"colorbar\":{\"outlinewidth\":0,\"ticks\":\"\"}}],\"histogram2d\":[{\"type\":\"histogram2d\",\"colorbar\":{\"outlinewidth\":0,\"ticks\":\"\"},\"colorscale\":[[0.0,\"#0d0887\"],[0.1111111111111111,\"#46039f\"],[0.2222222222222222,\"#7201a8\"],[0.3333333333333333,\"#9c179e\"],[0.4444444444444444,\"#bd3786\"],[0.5555555555555556,\"#d8576b\"],[0.6666666666666666,\"#ed7953\"],[0.7777777777777778,\"#fb9f3a\"],[0.8888888888888888,\"#fdca26\"],[1.0,\"#f0f921\"]]}],\"heatmap\":[{\"type\":\"heatmap\",\"colorbar\":{\"outlinewidth\":0,\"ticks\":\"\"},\"colorscale\":[[0.0,\"#0d0887\"],[0.1111111111111111,\"#46039f\"],[0.2222222222222222,\"#7201a8\"],[0.3333333333333333,\"#9c179e\"],[0.4444444444444444,\"#bd3786\"],[0.5555555555555556,\"#d8576b\"],[0.6666666666666666,\"#ed7953\"],[0.7777777777777778,\"#fb9f3a\"],[0.8888888888888888,\"#fdca26\"],[1.0,\"#f0f921\"]]}],\"heatmapgl\":[{\"type\":\"heatmapgl\",\"colorbar\":{\"outlinewidth\":0,\"ticks\":\"\"},\"colorscale\":[[0.0,\"#0d0887\"],[0.1111111111111111,\"#46039f\"],[0.2222222222222222,\"#7201a8\"],[0.3333333333333333,\"#9c179e\"],[0.4444444444444444,\"#bd3786\"],[0.5555555555555556,\"#d8576b\"],[0.6666666666666666,\"#ed7953\"],[0.7777777777777778,\"#fb9f3a\"],[0.8888888888888888,\"#fdca26\"],[1.0,\"#f0f921\"]]}],\"contourcarpet\":[{\"type\":\"contourcarpet\",\"colorbar\":{\"outlinewidth\":0,\"ticks\":\"\"}}],\"contour\":[{\"type\":\"contour\",\"colorbar\":{\"outlinewidth\":0,\"ticks\":\"\"},\"colorscale\":[[0.0,\"#0d0887\"],[0.1111111111111111,\"#46039f\"],[0.2222222222222222,\"#7201a8\"],[0.3333333333333333,\"#9c179e\"],[0.4444444444444444,\"#bd3786\"],[0.5555555555555556,\"#d8576b\"],[0.6666666666666666,\"#ed7953\"],[0.7777777777777778,\"#fb9f3a\"],[0.8888888888888888,\"#fdca26\"],[1.0,\"#f0f921\"]]}],\"surface\":[{\"type\":\"surface\",\"colorbar\":{\"outlinewidth\":0,\"ticks\":\"\"},\"colorscale\":[[0.0,\"#0d0887\"],[0.1111111111111111,\"#46039f\"],[0.2222222222222222,\"#7201a8\"],[0.3333333333333333,\"#9c179e\"],[0.4444444444444444,\"#bd3786\"],[0.5555555555555556,\"#d8576b\"],[0.6666666666666666,\"#ed7953\"],[0.7777777777777778,\"#fb9f3a\"],[0.8888888888888888,\"#fdca26\"],[1.0,\"#f0f921\"]]}],\"mesh3d\":[{\"type\":\"mesh3d\",\"colorbar\":{\"outlinewidth\":0,\"ticks\":\"\"}}],\"scatter\":[{\"fillpattern\":{\"fillmode\":\"overlay\",\"size\":10,\"solidity\":0.2},\"type\":\"scatter\"}],\"parcoords\":[{\"type\":\"parcoords\",\"line\":{\"colorbar\":{\"outlinewidth\":0,\"ticks\":\"\"}}}],\"scatterpolargl\":[{\"type\":\"scatterpolargl\",\"marker\":{\"colorbar\":{\"outlinewidth\":0,\"ticks\":\"\"}}}],\"bar\":[{\"error_x\":{\"color\":\"#2a3f5f\"},\"error_y\":{\"color\":\"#2a3f5f\"},\"marker\":{\"line\":{\"color\":\"#E5ECF6\",\"width\":0.5},\"pattern\":{\"fillmode\":\"overlay\",\"size\":10,\"solidity\":0.2}},\"type\":\"bar\"}],\"scattergeo\":[{\"type\":\"scattergeo\",\"marker\":{\"colorbar\":{\"outlinewidth\":0,\"ticks\":\"\"}}}],\"scatterpolar\":[{\"type\":\"scatterpolar\",\"marker\":{\"colorbar\":{\"outlinewidth\":0,\"ticks\":\"\"}}}],\"histogram\":[{\"marker\":{\"pattern\":{\"fillmode\":\"overlay\",\"size\":10,\"solidity\":0.2}},\"type\":\"histogram\"}],\"scattergl\":[{\"type\":\"scattergl\",\"marker\":{\"colorbar\":{\"outlinewidth\":0,\"ticks\":\"\"}}}],\"scatter3d\":[{\"type\":\"scatter3d\",\"line\":{\"colorbar\":{\"outlinewidth\":0,\"ticks\":\"\"}},\"marker\":{\"colorbar\":{\"outlinewidth\":0,\"ticks\":\"\"}}}],\"scattermapbox\":[{\"type\":\"scattermapbox\",\"marker\":{\"colorbar\":{\"outlinewidth\":0,\"ticks\":\"\"}}}],\"scatterternary\":[{\"type\":\"scatterternary\",\"marker\":{\"colorbar\":{\"outlinewidth\":0,\"ticks\":\"\"}}}],\"scattercarpet\":[{\"type\":\"scattercarpet\",\"marker\":{\"colorbar\":{\"outlinewidth\":0,\"ticks\":\"\"}}}],\"carpet\":[{\"aaxis\":{\"endlinecolor\":\"#2a3f5f\",\"gridcolor\":\"white\",\"linecolor\":\"white\",\"minorgridcolor\":\"white\",\"startlinecolor\":\"#2a3f5f\"},\"baxis\":{\"endlinecolor\":\"#2a3f5f\",\"gridcolor\":\"white\",\"linecolor\":\"white\",\"minorgridcolor\":\"white\",\"startlinecolor\":\"#2a3f5f\"},\"type\":\"carpet\"}],\"table\":[{\"cells\":{\"fill\":{\"color\":\"#EBF0F8\"},\"line\":{\"color\":\"white\"}},\"header\":{\"fill\":{\"color\":\"#C8D4E3\"},\"line\":{\"color\":\"white\"}},\"type\":\"table\"}],\"barpolar\":[{\"marker\":{\"line\":{\"color\":\"#E5ECF6\",\"width\":0.5},\"pattern\":{\"fillmode\":\"overlay\",\"size\":10,\"solidity\":0.2}},\"type\":\"barpolar\"}],\"pie\":[{\"automargin\":true,\"type\":\"pie\"}]},\"layout\":{\"autotypenumbers\":\"strict\",\"colorway\":[\"#636efa\",\"#EF553B\",\"#00cc96\",\"#ab63fa\",\"#FFA15A\",\"#19d3f3\",\"#FF6692\",\"#B6E880\",\"#FF97FF\",\"#FECB52\"],\"font\":{\"color\":\"#2a3f5f\"},\"hovermode\":\"closest\",\"hoverlabel\":{\"align\":\"left\"},\"paper_bgcolor\":\"white\",\"plot_bgcolor\":\"#E5ECF6\",\"polar\":{\"bgcolor\":\"#E5ECF6\",\"angularaxis\":{\"gridcolor\":\"white\",\"linecolor\":\"white\",\"ticks\":\"\"},\"radialaxis\":{\"gridcolor\":\"white\",\"linecolor\":\"white\",\"ticks\":\"\"}},\"ternary\":{\"bgcolor\":\"#E5ECF6\",\"aaxis\":{\"gridcolor\":\"white\",\"linecolor\":\"white\",\"ticks\":\"\"},\"baxis\":{\"gridcolor\":\"white\",\"linecolor\":\"white\",\"ticks\":\"\"},\"caxis\":{\"gridcolor\":\"white\",\"linecolor\":\"white\",\"ticks\":\"\"}},\"coloraxis\":{\"colorbar\":{\"outlinewidth\":0,\"ticks\":\"\"}},\"colorscale\":{\"sequential\":[[0.0,\"#0d0887\"],[0.1111111111111111,\"#46039f\"],[0.2222222222222222,\"#7201a8\"],[0.3333333333333333,\"#9c179e\"],[0.4444444444444444,\"#bd3786\"],[0.5555555555555556,\"#d8576b\"],[0.6666666666666666,\"#ed7953\"],[0.7777777777777778,\"#fb9f3a\"],[0.8888888888888888,\"#fdca26\"],[1.0,\"#f0f921\"]],\"sequentialminus\":[[0.0,\"#0d0887\"],[0.1111111111111111,\"#46039f\"],[0.2222222222222222,\"#7201a8\"],[0.3333333333333333,\"#9c179e\"],[0.4444444444444444,\"#bd3786\"],[0.5555555555555556,\"#d8576b\"],[0.6666666666666666,\"#ed7953\"],[0.7777777777777778,\"#fb9f3a\"],[0.8888888888888888,\"#fdca26\"],[1.0,\"#f0f921\"]],\"diverging\":[[0,\"#8e0152\"],[0.1,\"#c51b7d\"],[0.2,\"#de77ae\"],[0.3,\"#f1b6da\"],[0.4,\"#fde0ef\"],[0.5,\"#f7f7f7\"],[0.6,\"#e6f5d0\"],[0.7,\"#b8e186\"],[0.8,\"#7fbc41\"],[0.9,\"#4d9221\"],[1,\"#276419\"]]},\"xaxis\":{\"gridcolor\":\"white\",\"linecolor\":\"white\",\"ticks\":\"\",\"title\":{\"standoff\":15},\"zerolinecolor\":\"white\",\"automargin\":true,\"zerolinewidth\":2},\"yaxis\":{\"gridcolor\":\"white\",\"linecolor\":\"white\",\"ticks\":\"\",\"title\":{\"standoff\":15},\"zerolinecolor\":\"white\",\"automargin\":true,\"zerolinewidth\":2},\"scene\":{\"xaxis\":{\"backgroundcolor\":\"#E5ECF6\",\"gridcolor\":\"white\",\"linecolor\":\"white\",\"showbackground\":true,\"ticks\":\"\",\"zerolinecolor\":\"white\",\"gridwidth\":2},\"yaxis\":{\"backgroundcolor\":\"#E5ECF6\",\"gridcolor\":\"white\",\"linecolor\":\"white\",\"showbackground\":true,\"ticks\":\"\",\"zerolinecolor\":\"white\",\"gridwidth\":2},\"zaxis\":{\"backgroundcolor\":\"#E5ECF6\",\"gridcolor\":\"white\",\"linecolor\":\"white\",\"showbackground\":true,\"ticks\":\"\",\"zerolinecolor\":\"white\",\"gridwidth\":2}},\"shapedefaults\":{\"line\":{\"color\":\"#2a3f5f\"}},\"annotationdefaults\":{\"arrowcolor\":\"#2a3f5f\",\"arrowhead\":0,\"arrowwidth\":1},\"geo\":{\"bgcolor\":\"white\",\"landcolor\":\"#E5ECF6\",\"subunitcolor\":\"white\",\"showland\":true,\"showlakes\":true,\"lakecolor\":\"white\"},\"title\":{\"x\":0.05},\"mapbox\":{\"style\":\"light\"}}},\"xaxis\":{\"anchor\":\"y\",\"domain\":[0.0,1.0],\"title\":{\"text\":\"Project\"}},\"yaxis\":{\"anchor\":\"x\",\"domain\":[0.0,1.0],\"title\":{\"text\":\"Number of Tasks\"}},\"legend\":{\"tracegroupgap\":0},\"title\":{\"text\":\"Number of Tasks in Each Project\"},\"barmode\":\"relative\",\"showlegend\":false},                        {\"responsive\": true}                    ).then(function(){\n",
       "                            \n",
       "var gd = document.getElementById('ecca4571-7dda-4b27-983f-15d7c6412955');\n",
       "var x = new MutationObserver(function (mutations, observer) {{\n",
       "        var display = window.getComputedStyle(gd).display;\n",
       "        if (!display || display === 'none') {{\n",
       "            console.log([gd, 'removed!']);\n",
       "            Plotly.purge(gd);\n",
       "            observer.disconnect();\n",
       "        }}\n",
       "}});\n",
       "\n",
       "// Listen for the removal of the full notebook cells\n",
       "var notebookContainer = gd.closest('#notebook-container');\n",
       "if (notebookContainer) {{\n",
       "    x.observe(notebookContainer, {childList: true});\n",
       "}}\n",
       "\n",
       "// Listen for the clearing of the current output cell\n",
       "var outputEl = gd.closest('.output');\n",
       "if (outputEl) {{\n",
       "    x.observe(outputEl, {childList: true});\n",
       "}}\n",
       "\n",
       "                        })                };                });            </script>        </div>"
      ]
     },
     "metadata": {},
     "output_type": "display_data"
    }
   ],
   "source": [
    "\n",
    "    # Create a DataFrame from the list of tasks\n",
    "df = pd.DataFrame(task_list)\n",
    "\n",
    "    # Group by project and count the number of tasks in each project\n",
    "project_counts = df.groupby('projectID').size().reset_index(name='Number of Tasks')\n",
    "\n",
    "    # Create a bar plot\n",
    "fig = px.bar(project_counts, x='projectID', y='Number of Tasks', title='Number of Tasks in Each Project')\n",
    "\n",
    "    # Update layout\n",
    "fig.update_layout(xaxis_title='Project', yaxis_title='Number of Tasks', showlegend=False)\n",
    "\n",
    "    # Show the figure\n",
    "fig.show()"
   ]
  },
  {
   "cell_type": "code",
   "execution_count": 60,
   "id": "b1d68dff",
   "metadata": {},
   "outputs": [
    {
     "data": {
      "text/plain": [
       "[{'projectID': 'P0001',\n",
       "  'taskID': 'T0001',\n",
       "  'taskName': 'Task 1',\n",
       "  'taskPriority': 'Medium',\n",
       "  'taskDuration': '1 week',\n",
       "  'taskComments': 'Urgent task',\n",
       "  'assignedToTask': 'Team Member 1',\n",
       "  'taskStartDate': '2023-11-02',\n",
       "  'taskDeadline': '2023-12-28',\n",
       "  'taskStatus': 'Not Started'},\n",
       " {'projectID': 'P0001',\n",
       "  'taskID': 'T0002',\n",
       "  'taskName': 'Task 1',\n",
       "  'taskPriority': 'Medium',\n",
       "  'taskDuration': '1 week',\n",
       "  'taskComments': 'Urgent task',\n",
       "  'assignedToTask': 'Team Member 1',\n",
       "  'taskStartDate': '2023-11-02',\n",
       "  'taskDeadline': '2023-12-28',\n",
       "  'taskStatus': 'Not Started'},\n",
       " {'projectID': 'P0001',\n",
       "  'taskID': 'T0003',\n",
       "  'taskName': 'Task 1',\n",
       "  'taskPriority': 'Medium',\n",
       "  'taskDuration': '1 week',\n",
       "  'taskComments': 'Urgent task',\n",
       "  'assignedToTask': 'Team Member 1',\n",
       "  'taskStartDate': '2023-11-02',\n",
       "  'taskDeadline': '2023-12-28',\n",
       "  'taskStatus': 'Not Started'},\n",
       " {'projectID': 'P0001',\n",
       "  'taskID': 'T0004',\n",
       "  'taskName': 'Task 1',\n",
       "  'taskPriority': 'Medium',\n",
       "  'taskDuration': '1 week',\n",
       "  'taskComments': 'Urgent task',\n",
       "  'assignedToTask': 'Team Member 1',\n",
       "  'taskStartDate': '2023-11-02',\n",
       "  'taskDeadline': '2023-12-28',\n",
       "  'taskStatus': 'Not Started'},\n",
       " {'projectID': 'P0002',\n",
       "  'taskID': 'T0005',\n",
       "  'taskName': 'Task 1',\n",
       "  'taskPriority': 'Medium',\n",
       "  'taskDuration': '1 week',\n",
       "  'taskComments': 'Urgent task',\n",
       "  'assignedToTask': 'Team Member 1',\n",
       "  'taskStartDate': '2023-11-02',\n",
       "  'taskDeadline': '2023-12-28',\n",
       "  'taskStatus': 'Not Started'}]"
      ]
     },
     "execution_count": 60,
     "metadata": {},
     "output_type": "execute_result"
    }
   ],
   "source": [
    "#data = []\n",
    "tasks_from_json = file_handler.read_from_json('task.json')\n",
    "task_list = [task for task in tasks_from_json]\n",
    "\n",
    "task_list"
   ]
  },
  {
   "cell_type": "code",
   "execution_count": null,
   "id": "64d8a63d",
   "metadata": {},
   "outputs": [],
   "source": []
  }
 ],
 "metadata": {
  "kernelspec": {
   "display_name": "Python 3 (ipykernel)",
   "language": "python",
   "name": "python3"
  },
  "language_info": {
   "codemirror_mode": {
    "name": "ipython",
    "version": 3
   },
   "file_extension": ".py",
   "mimetype": "text/x-python",
   "name": "python",
   "nbconvert_exporter": "python",
   "pygments_lexer": "ipython3",
   "version": "3.11.2"
  }
 },
 "nbformat": 4,
 "nbformat_minor": 5
}
